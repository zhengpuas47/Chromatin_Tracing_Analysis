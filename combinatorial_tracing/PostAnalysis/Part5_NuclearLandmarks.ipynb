{
 "cells": [
  {
   "cell_type": "markdown",
   "metadata": {},
   "source": [
    "__Author__: Bogdan Bintu\n",
    "\n",
    "__Email__: bbintu@g.harvard.edu\n",
    "\n",
    "__Date__:3/4/2020"
   ]
  },
  {
   "cell_type": "code",
   "execution_count": null,
   "metadata": {},
   "outputs": [],
   "source": [
    "import cPickle as pickle\n",
    "import numpy as np\n",
    "import os\n",
    "import matplotlib.pylab as plt\n",
    "import matplotlib\n",
    "matplotlib.rcParams['pdf.fonttype'] = 42\n",
    "matplotlib.rcParams['font.size']=15\n",
    "matplotlib.rcParams['font.family']='Arial'"
   ]
  },
  {
   "cell_type": "markdown",
   "metadata": {},
   "source": [
    "### Load data"
   ]
  },
  {
   "cell_type": "code",
   "execution_count": null,
   "metadata": {},
   "outputs": [],
   "source": [
    "folder = r'Data'\n",
    "fid = open(folder+os.sep+r'genomic-scale-with transcription and nuclear bodies.tsv','r')\n",
    "lines = np.array([ln[:-1].split('\\t')for ln in fid if len(ln)>0])\n",
    "zxy = np.array(lines[1:,:3][:],dtype=np.float)\n",
    "zxy = zxy.reshape([-1,2082,3])/1000 #transform to um"
   ]
  },
  {
   "cell_type": "code",
   "execution_count": null,
   "metadata": {},
   "outputs": [],
   "source": [
    "Transcr = []#np.array(['on' in e for e in lines[1:,8]])\n",
    "for e in lines[1:,8]:\n",
    "    if 'on' in e:\n",
    "        Transcr.append(1)\n",
    "    elif (e=='') or (e=='nan'):\n",
    "        Transcr.append(np.nan)\n",
    "    else:\n",
    "        Transcr.append(0)\n",
    "Transcr_WT = np.array(Transcr).reshape([-1,1041])"
   ]
  },
  {
   "cell_type": "code",
   "execution_count": null,
   "metadata": {},
   "outputs": [],
   "source": [
    "#Please see Part 3 how to calculate densities\n",
    "#resWT = np.load(r'Data\\densityIMR90Untreated.npy')\n",
    "resWT = np.load(r'densityIMR90Untreated.npy')\n",
    "keep = slice(None)\n",
    "AD = resWT[keep,0,0,:]\n",
    "BD = resWT[keep,1,0,:]\n",
    "Dratio_WT = AD/BD\n",
    "Dratio_WT = Dratio_WT.reshape([-1,1041])[-len(Transcr_WT):]\n",
    "good_WT = (~np.isnan(zxy[:,:,0])).reshape([-1,1041])"
   ]
  },
  {
   "cell_type": "code",
   "execution_count": null,
   "metadata": {},
   "outputs": [],
   "source": [
    "tot_distsNUC_WT_ = np.array(lines[1:,-2],dtype=np.float).reshape([-1,1041])/1000\n",
    "tot_distsSC_WT_ = np.array(lines[1:,-1],dtype=np.float).reshape([-1,1041])/1000\n",
    "tot_distsLAM_WT_ = np.array(lines[1:,-3],dtype=np.float).reshape([-1,1041])/1000"
   ]
  },
  {
   "cell_type": "code",
   "execution_count": null,
   "metadata": {},
   "outputs": [],
   "source": [
    "save_folder = r'save_folder'"
   ]
  },
  {
   "cell_type": "markdown",
   "metadata": {},
   "source": [
    "### Nucleoli association"
   ]
  },
  {
   "cell_type": "code",
   "execution_count": null,
   "metadata": {},
   "outputs": [],
   "source": [
    "#distances are assumed in um\n",
    "tot_dists = tot_distsNUC_WT_\n",
    "asocs = 1.*np.sum(tot_dists<0.25,0)/np.sum(tot_dists>-1,0)\n",
    "lens = [76, 80, 66, 63, 60, 55, 53, 48, 40, 43, 44, 44, 33, 30, 31, 30, 33, 33, 33, 33, 31, 31, 51]\n",
    "edges = np.cumsum([0]+lens)\n",
    "from matplotlib import cm\n",
    "fig = plt.figure(figsize=(15,3))\n",
    "colors = list(cm.tab20.colors)+list(cm.Dark2.colors)\n",
    "for i in range(len(edges)-1):\n",
    "    plt.semilogy(np.arange(edges[i],edges[i+1]),asocs[edges[i]:edges[i+1]],'.-',color = colors[i])\n",
    "#fig.savefig(save_folder+os.sep+'nucleoli_association.pdf')"
   ]
  },
  {
   "cell_type": "code",
   "execution_count": null,
   "metadata": {},
   "outputs": [],
   "source": []
  },
  {
   "cell_type": "markdown",
   "metadata": {},
   "source": [
    "### Lamina and speckle"
   ]
  },
  {
   "cell_type": "code",
   "execution_count": null,
   "metadata": {},
   "outputs": [],
   "source": [
    "nuc_cutoff = 0.25\n",
    "frLAM_WT = 1.*np.sum(tot_distsLAM_WT_<nuc_cutoff,0)/np.sum(good_WT,0)\n",
    "frNUC_WT = 1.*np.sum(tot_distsNUC_WT_<nuc_cutoff,0)/np.sum(good_WT,0)\n",
    "frSC_WT = 1.*np.sum(tot_distsSC_WT_<nuc_cutoff,0)/np.sum(good_WT,0)\n",
    "\n",
    "dLAM_WT = np.nanmedian(tot_distsLAM_WT_,axis=0)\n",
    "dSC_WT = np.nanmedian(tot_distsSC_WT_,axis=0)\n",
    "dNUC_WT = np.nanmedian(tot_distsNUC_WT_,axis=0)\n",
    "dRAT_WT = np.nanmedian(Dratio_WT,axis=0)"
   ]
  },
  {
   "cell_type": "markdown",
   "metadata": {},
   "source": [
    "### Speckle association and A/B density"
   ]
  },
  {
   "cell_type": "code",
   "execution_count": null,
   "metadata": {},
   "outputs": [],
   "source": [
    "fig=plt.figure(figsize=(5,5))\n",
    "cor = np.round(np.corrcoef(np.log(frLAM_WT),np.log(dRAT_WT))[0,1],2)\n",
    "plt.semilogy(frLAM_WT,dRAT_WT,'o',color='gray',markeredgecolor='k',label='r = '+str(cor))\n",
    "plt.ylabel(\"A/B density ratio\")\n",
    "plt.xlabel(\"Lamina association rate\")\n",
    "plt.title('Cut-off distance: '+str(int(nuc_cutoff*1000))+' nm')\n",
    "plt.legend()\n",
    "#fig.savefig(save_folder+os.sep+'fr_lamina_ABdensity'+str(int(nuc_cutoff*1000))+'.pdf')"
   ]
  },
  {
   "cell_type": "markdown",
   "metadata": {},
   "source": [
    "### Lamina association and A/B density"
   ]
  },
  {
   "cell_type": "code",
   "execution_count": null,
   "metadata": {},
   "outputs": [],
   "source": [
    "fig=plt.figure(figsize=(5,5))\n",
    "cor = np.round(np.corrcoef(np.log(frSC_WT),np.log(dRAT_WT))[0,1],2)\n",
    "plt.loglog(frSC_WT,dRAT_WT,'o',color='orange',markeredgecolor='k',label='r = '+str(cor))\n",
    "plt.ylabel(\"A/B density ratio\")\n",
    "plt.xlabel(\"Fraction of cells speckle-associated\")\n",
    "plt.title('Cut-off distance: '+str(int(nuc_cutoff*1000))+' nm')\n",
    "plt.legend()\n",
    "#fig.savefig(save_folder+os.sep+'fr_speckle_ABdensity'+str(int(nuc_cutoff*1000))+'.pdf')"
   ]
  },
  {
   "cell_type": "markdown",
   "metadata": {},
   "source": [
    "### Transcriptional dependent association"
   ]
  },
  {
   "cell_type": "code",
   "execution_count": null,
   "metadata": {},
   "outputs": [],
   "source": [
    "nuc_cutoof = 0.5\n",
    "Asocs_LAM_WT = tot_distsLAM_WT_<nuc_cutoof\n",
    "Asocs_NUC_WT = tot_distsNUC_WT_<nuc_cutoof\n",
    "Asocs_SC_WT = tot_distsSC_WT_<nuc_cutoof\n",
    "dif = (1041+100)\n",
    "good_WT = tot_distsLAM_WT_>-1\n",
    "fig=plt.figure(figsize=(6,7))\n",
    "Asocs = Asocs_LAM_WT##########################################\n",
    "Transcr_WT = Transcr_WT==1\n",
    "aSs = 1.*np.sum(Asocs*(~Transcr_WT),axis=0)/np.sum((~Transcr_WT)*good_WT,axis=0)\n",
    "aTs = 1.*np.sum(Asocs*(Transcr_WT),axis=0)/np.sum(Transcr_WT*good_WT,axis=0)\n",
    "anNs = 1.*np.sum(Transcr_WT*(~Asocs),axis=0)/np.sum((~Asocs)*good_WT,axis=0)\n",
    "aNs = 1.*np.sum(Transcr_WT*(Asocs),axis=0)/np.sum(Asocs*good_WT,axis=0)\n",
    "plt.semilogy(np.arange(len(aTs))+dif*0,aTs/aSs,'o',color='gray',markeredgecolor='k')\n",
    "plt.plot(np.arange(len(aTs))+dif*0,[np.nanmean(aTs/aSs)]*len(aTs),lw=5,color='r')\n",
    "\n",
    "fr = aTs/aSs\n",
    "fr = 100.*np.sum(fr>1)/np.sum(fr>-1)\n",
    "print(fr)\n",
    "\n",
    "\n",
    "\n",
    "Asocs = Asocs_SC_WT##########################################\n",
    "Transcr_WT = Transcr_WT==1\n",
    "aSs = 1.*np.sum(Asocs*(~Transcr_WT),axis=0)/np.sum((~Transcr_WT)*good_WT,axis=0)\n",
    "aTs = 1.*np.sum(Asocs*(Transcr_WT),axis=0)/np.sum(Transcr_WT*good_WT,axis=0)\n",
    "anNs = 1.*np.sum(Transcr_WT*(~Asocs),axis=0)/np.sum((~Asocs)*good_WT,axis=0)\n",
    "aNs = 1.*np.sum(Transcr_WT*(Asocs),axis=0)/np.sum(Asocs*good_WT,axis=0)\n",
    "\n",
    "fr = aTs/aSs\n",
    "fr = 100.*np.sum(fr>1)/np.sum(fr>-1)\n",
    "print(fr)\n",
    "plt.semilogy(np.arange(len(aTs))+dif*1,aTs/aSs,'o',color='orange',markeredgecolor='k')\n",
    "plt.plot(np.arange(len(aTs))+dif*1,[np.nanmean(aTs/aSs)]*len(aTs),lw=5,color='r')\n",
    "plt.plot([0,dif*2],[1,1],':r',lw=5)\n",
    "plt.ylim([0.1,3.5])\n",
    "ax1 = fig.get_axes()[0]\n",
    "ax1.get_yaxis().set_major_formatter(matplotlib.ticker.ScalarFormatter())\n",
    "plt.yticks([0.12,0.25,0.5,1,2])\n",
    "plt.ylabel('Association enrichment')\n",
    "#ax1.get_yaxis().get_major_formatter().labelOnlyBase = False\n",
    "#fig.savefig(r'C:\\Users\\Bogdan\\Dropbox\\2020 Chromatin Imaging Manuscript\\Revision\\Bogdan_Figures\\base_images\\CutoffNuclearBodies\\250nm_WT_association_Transcription.pdf')\n",
    "#plt.ylabel('')\n",
    "plt.title('250nm cutoff')\n",
    "#fig.savefig(save_folder+os.sep+'fold_association_rate_transcribing'+str(int(nuc_cutoff*1000))+'.pdf')"
   ]
  },
  {
   "cell_type": "markdown",
   "metadata": {},
   "source": [
    "### Transcriptional dependence in different nuclear environments"
   ]
  },
  {
   "cell_type": "code",
   "execution_count": null,
   "metadata": {},
   "outputs": [],
   "source": [
    "nuc_cutoof = 0.25\n",
    "Asocs_LAM_WT = tot_distsLAM_WT_<nuc_cutoof\n",
    "Asocs_NUC_WT = tot_distsNUC_WT_<nuc_cutoof\n",
    "Asocs_SC_WT = tot_distsSC_WT_<nuc_cutoof\n",
    "dif = (1041+100)\n",
    "\n",
    "fig=plt.figure(figsize=(13,7))#4,7\n",
    "dif = (1041+100)\n",
    "cols = [[0.2,0.2,0.2],'orange',[0,0.5,1],'white']\n",
    "good_WT = good_WT>0\n",
    "Asocslist = [good_WT,Asocs_SC_WT,Asocs_LAM_WT,(~Asocs_SC_WT)&(~Asocs_LAM_WT)&good_WT]\n",
    "\n",
    "lims = [-0.4,0.6]\n",
    "no_pts = []\n",
    "for iAsocs,Asocs in enumerate(Asocslist):\n",
    "    Transcr =Transcr_WT==1\n",
    "    DratioT = Dratio_WT.copy()\n",
    "    DratioT[~(Transcr&Asocs&good_WT)]=np.nan\n",
    "    dT = np.nanmedian(DratioT,0)\n",
    "    DratioS = Dratio_WT.copy()\n",
    "    DratioS[~((~Transcr)&Asocs&good_WT)]=np.nan\n",
    "    dS = np.nanmedian(DratioS,0)\n",
    "    logTS = np.log(dT/dS)/np.log(2)\n",
    "    plt.plot(np.arange(1041)+dif*iAsocs,logTS,'o',color=cols[iAsocs],markeredgecolor='k')\n",
    "    plt.plot(np.arange(1041)+dif*iAsocs,[np.nanmedian(logTS)]*1041,lw=5,color='r')#cols[iAsocs])\n",
    "    fr = 1.*np.sum((dT/dS)>1)/np.sum((dT/dS)>0)\n",
    "    no_pts.append([np.sum(logTS<lims[0]),np.sum(logTS>lims[1])])\n",
    "    print(np.sum(logTS<lims[0]),np.sum(logTS>lims[1]))\n",
    "    print(\"Number above 0:\"+str(fr))\n",
    "    from scipy.stats import wilcoxon as wilcoxon\n",
    "    print wilcoxon(np.log(dT),np.log(dS))\n",
    "#plt.title('B regions')\n",
    "#plt.semilogy(np.arange(len(frLAM_am))+dif*0,1./frLAM_am*frLAM_WT,'o',color='gray',markeredgecolor='k')\n",
    "#plt.semilogy(np.arange(len(frLAM_am))+dif*0,[np.nanmean(1./frLAM_am*frLAM_WT)]*1041,lw=5,color='gray')\n",
    "#plt.semilogy(np.arange(len(frNUC_am))+dif*1,1./frNUC_am*frNUC_WT,'o',color='cyan',markeredgecolor='k')\n",
    "#plt.semilogy(np.arange(len(frNUC_am))+dif*1,[np.nanmean(1./frNUC_am*frNUC_WT)]*1041,lw=5,color='cyan')\n",
    "plt.plot([0,dif*len(Asocslist)],[0,0],':r',lw=5)\n",
    "plt.ylabel('Log2 difference of \\n trans A/B density ratio')\n",
    "ax1 = fig.get_axes()[0]\n",
    "ax1.get_yaxis().set_major_formatter(matplotlib.ticker.ScalarFormatter())\n",
    "#plt.yticks([0.5,1,2])\n",
    "\n",
    "plt.ylim(lims)\n",
    "plt.xticks([dif*iAsocs+dif/2 for iAsocs in range(len(Asocslist))],\n",
    "           ['All data','Speckle associated','Lamina-associated','Not lamina-associated\\n and not speckle-associated'],rotation=0)\n",
    "plt.title('Transcribing/Silent -'+str(int(nuc_cutoof*1000))+'nm cut-off')#\\nNo of cut points [above,below]:'+str(no_pts))\n",
    "#fig.savefig(r'C:\\Users\\bogdan\\Dropbox\\ScienceWGCT_Figures\\baseimages\\Fig4_AB_enrichment_transcr_SCvsallrest_v3.pdf')\n",
    "#folder = r'C:\\Users\\Bogdan\\Dropbox\\2020 Chromatin Imaging Manuscript\\Revision\\FinalFigures\\Figure 7\\Subpanels'\n",
    "#import os\n",
    "#fig.savefig(folder+os.sep+r'Fig7DTranscriptionAsociation_LongStrip-'+str(int(nuc_cutoof*1000))+'-.pdf')\n",
    "\n",
    "#fig.savefig(save_folder+os.sep+'fold_AB-density_transcribing_strip'+str(int(nuc_cutoof*1000))+'.pdf')"
   ]
  },
  {
   "cell_type": "code",
   "execution_count": null,
   "metadata": {},
   "outputs": [],
   "source": [
    "nuc_cutoff = 0.25\n",
    "good_WT = tot_distsLAM_WT_>-1\n",
    "frLAM_WT = 1.*np.sum(tot_distsLAM_WT_<nuc_cutoff,0)/np.sum(good_WT,0)\n",
    "frNUC_WT = 1.*np.sum(tot_distsNUC_WT_<nuc_cutoff,0)/np.sum(good_WT,0)\n",
    "frSC_WT = 1.*np.sum(tot_distsSC_WT_<nuc_cutoff,0)/np.sum(good_WT,0)\n",
    "\n",
    "dLAM_WT = np.nanmedian(tot_distsLAM_WT_,axis=0)\n",
    "dSC_WT = np.nanmedian(tot_distsSC_WT_,axis=0)\n",
    "dNUC_WT = np.nanmedian(tot_distsNUC_WT_,axis=0)\n",
    "dRAT_WT = np.nanmedian(Dratio_WT,axis=0)\n",
    "\n",
    "\n",
    "AB = 'B,B,A,A,B,B,A,A,A,B,A,A,A,B,A,B,B,A,B,B,B,B,B,B,B,A,B,B,A,A,A,B,B,B,B,B,B,B,B,A,nan,A,A,A,B,A,B,A,B,A,B,A,B,A,A,A,B,B,B,A,A,A,B,B,A,B,B,A,B,B,B,B,B,B,B,A,B,B,A,A,B,B,B,A,A,B,A,B,A,A,B,B,B,A,B,B,A,B,A,B,A,B,B,B,B,B,nan,A,B,A,B,B,A,B,B,A,B,B,B,B,A,B,B,A,B,A,B,B,A,B,B,A,A,A,B,B,A,B,A,A,B,B,A,B,B,B,B,A,A,B,A,B,A,B,B,A,B,B,B,B,A,B,B,A,B,A,A,B,B,A,A,A,B,B,A,B,B,A,A,B,B,B,B,B,A,B,nan,B,A,A,B,A,B,A,B,A,A,A,A,B,B,A,B,B,B,A,B,B,B,B,B,A,A,B,A,B,A,A,B,B,A,A,A,B,B,B,A,B,B,A,A,B,B,B,A,A,B,B,nan,A,A,B,B,B,B,B,B,B,B,B,A,B,B,B,A,B,B,B,B,A,B,A,A,A,B,B,B,A,A,B,B,A,B,B,A,B,B,B,B,B,A,B,A,B,A,B,B,A,B,B,B,B,B,B,B,A,B,A,B,B,nan,B,A,A,B,B,A,B,A,B,A,A,A,B,B,A,A,B,B,B,B,B,B,B,B,A,B,B,B,A,A,B,A,B,A,B,B,B,B,B,B,B,B,A,A,A,B,B,A,A,A,A,B,B,A,A,A,B,A,B,B,B,A,A,B,B,B,B,A,B,B,B,B,A,B,B,B,B,B,A,A,B,B,B,B,B,A,A,A,B,A,A,A,A,B,B,B,B,B,B,B,A,B,B,B,B,B,B,B,A,A,A,B,A,A,A,B,B,B,nan,B,A,B,B,A,A,A,A,B,B,A,B,A,A,A,A,B,B,A,B,B,B,A,B,A,A,B,B,B,B,B,B,B,B,B,A,B,B,A,B,B,B,A,B,B,A,A,nan,A,B,A,B,B,B,B,A,A,B,B,A,B,B,B,B,B,A,B,A,B,B,B,B,A,A,B,B,B,B,B,A,nan,B,B,B,B,B,B,B,B,A,B,B,A,B,nan,nan,B,B,B,B,B,B,B,B,B,B,A,A,B,A,B,A,A,B,B,A,A,A,A,B,B,B,A,B,A,A,A,B,B,B,A,A,B,nan,A,nan,A,B,B,B,B,B,A,A,A,A,B,B,A,B,A,B,B,A,B,B,B,B,B,B,B,B,B,B,A,B,A,A,B,B,B,A,B,B,A,A,B,B,B,A,nan,B,B,B,A,A,A,A,A,B,B,B,B,A,A,B,B,A,B,A,B,A,B,A,B,B,B,B,A,A,B,B,B,B,B,B,A,B,B,nan,B,B,B,A,A,A,A,B,B,A,B,B,B,A,B,B,B,A,A,B,B,B,A,B,B,B,B,B,A,B,B,A,nan,A,A,B,B,B,B,B,A,A,B,B,B,B,B,B,B,B,B,B,B,B,B,B,B,B,B,B,B,B,B,B,nan,nan,B,B,B,B,B,B,B,B,B,B,A,A,B,B,B,B,A,B,A,B,B,B,B,B,B,B,B,A,A,nan,nan,B,B,B,B,A,B,A,A,B,A,B,B,B,B,B,A,A,A,B,A,A,B,B,B,A,B,B,B,B,A,B,B,B,B,A,B,B,B,B,A,B,B,nan,B,B,B,A,B,B,B,A,A,B,B,B,B,B,A,A,A,A,A,B,B,B,A,A,B,nan,B,A,B,B,A,A,A,A,A,A,B,B,B,A,A,A,A,B,B,A,A,A,A,B,B,B,A,A,B,nan,nan,A,A,B,B,B,B,A,B,A,B,A,B,B,B,A,A,B,B,B,A,A,B,A,A,A,A,A,A,B,B,A,B,A,B,A,A,B,B,nan,nan,B,B,B,B,B,B,A,A,A,A,A,A,A,B,B,B,B,B,B,A,B,B,B,B,B,B,B,B,B,B,B,nan,nan,nan,A,A,A,B,B,B,B,B,B,A,B,B,B,B,B,B,A,nan,B,B,nan,nan,B,B,B,B,B,B,B,B,B,B,B,B,B,B,B,B,B,A,B,B,B,B,B,B,A,A,nan,nan,nan,nan,B,A,A,A,A,A,B,A,A,A,A,A,B,B,A,A,A,A,A,A,A,A,A,A,B,B,A,A,A,A,A,A,A,A,A,A,A,A,A,A,A,A,A,A,A,A,nan,A,A,A,A,A,A,A,A,A,A,A,B,B,B,B,B,B,B,B,B,B,B,B,B,B,B,B,B,B,B,B'\n",
    "AB=np.array(AB.split(','))\n",
    "lens = [76, 80, 66, 63, 60, 55, 53, 48, 40, 43, 44, 44, 33, 30, 31, 30, 33, 33, 33, 33, 31, 31, 51]\n",
    "edges = np.cumsum([0]+lens)\n",
    "A,B = AB=='A',AB=='B'"
   ]
  },
  {
   "cell_type": "code",
   "execution_count": null,
   "metadata": {},
   "outputs": [],
   "source": [
    "fr_LAM__ = frLAM_WT#1.*np.sum(Asocs_LAM_WT,0)/np.sum(good_WT,0)\n",
    "fig = plt.figure()\n",
    "hTEMP=plt.hist(fr_LAM__[A],color='r',bins=20,alpha=0.75,label='A')\n",
    "plt.hist(fr_LAM__[B],color='b',bins=20,alpha=0.75,label='B')\n",
    "plt.ylabel(r\"Probability density\")\n",
    "plt.xlabel(\"Median association frequency to lamina\")\n",
    "plt.legend()\n",
    "#yvals = np.linspace(0.,0.2,5)\n",
    "#plt.yticks(np.array(yvals)*np.sum(hTEMP[0]),np.array(yvals)*100)\n",
    "#fig.savefig(save_folder+os.sep+r'lamina_association_rate__new.pdf')"
   ]
  },
  {
   "cell_type": "code",
   "execution_count": null,
   "metadata": {},
   "outputs": [],
   "source": [
    "fr_SC__ = frSC_WT#1.*np.sum(Asocs_SC_WT,0)/np.sum(good_WT,0)\n",
    "fig = plt.figure()\n",
    "hTEMP=plt.hist(fr_SC__[A],color='r',bins=np.exp(np.linspace(-2.5,-0.5,20)),alpha=0.75,label='A',normed=True)\n",
    "HTEMP = plt.hist(fr_SC__[B],color='b',bins=np.exp(np.linspace(-2.5,-0.5,20)),alpha=0.75,label='B',normed=True)\n",
    "plt.ylabel(\"Probability density\")\n",
    "plt.xlabel(\"Median association frequency to speckles\")\n",
    "plt.gca().set_xscale(\"log\")\n",
    "plt.legend()\n",
    "yvals = np.linspace(0,0.30,4)\n",
    "#plt.yticks(np.array(yvals)*np.sum(hTEMP[0]),np.array(yvals)*100);\n",
    "#fig.savefig(save_folder+os.sep+'speckle_association_rate__new.pdf')"
   ]
  },
  {
   "cell_type": "code",
   "execution_count": null,
   "metadata": {},
   "outputs": [],
   "source": [
    "from tqdm import tqdm_notebook as tqdm\n",
    "dic_tr_A = {}\n",
    "dic_tr_B = {}\n",
    "lines_ = lines[1:,7:9].reshape([-1,1041,2])\n",
    "lines_A = lines_[:,A].reshape([-1,2])\n",
    "lines_B = lines_[:,B].reshape([-1,2])\n",
    "for nms,trs in tqdm(lines_A):\n",
    "    if trs!= 'nan' and nms!='':\n",
    "        for gn,tr in zip(nms.split(','),trs.split(',')):\n",
    "            dic_tr_A[gn] = dic_tr_A.get(gn,[])+[tr]\n",
    "for nms,trs in tqdm(lines_B):\n",
    "    if trs!= 'nan' and nms!='':\n",
    "        for gn,tr in zip(nms.split(','),trs.split(',')):\n",
    "            dic_tr_B[gn] = dic_tr_B.get(gn,[])+[tr]"
   ]
  },
  {
   "cell_type": "code",
   "execution_count": null,
   "metadata": {},
   "outputs": [],
   "source": [
    "len(dic_tr_A.keys()),len(dic_tr_B.keys()),np.sum(A)+np.sum(B)"
   ]
  },
  {
   "cell_type": "code",
   "execution_count": null,
   "metadata": {},
   "outputs": [],
   "source": [
    "frsB = np.array([np.mean(np.array(dic_tr_B[key])=='on') for key in dic_tr_B])#/np.log(10)\n",
    "frsA = np.array([np.mean(np.array(dic_tr_A[key])=='on') for key in dic_tr_A])#/np.log(10)\n",
    "fig=plt.figure()\n",
    "\n",
    "plt.hist(frsA,bins=10**(np.linspace(-2.5,0,20)),color='r',alpha=0.75,label='A regions')\n",
    "plt.hist(frsB,bins=10**(np.linspace(-2.5,0,20)),color='b',alpha=0.75,label='B regions')\n",
    "plt.gca().set_xscale(\"log\")\n",
    "plt.legend()\n",
    "plt.xlabel('Bursting frequency')\n",
    "plt.ylabel('Number of genes')\n",
    "plt.show()\n",
    "#fig.savefig(save_folder+os.sep+'firing_rate__new.pdf')"
   ]
  }
 ],
 "metadata": {
  "kernelspec": {
   "display_name": "Python 3",
   "language": "python",
   "name": "python3"
  },
  "language_info": {
   "codemirror_mode": {
    "name": "ipython",
    "version": 3
   },
   "file_extension": ".py",
   "mimetype": "text/x-python",
   "name": "python",
   "nbconvert_exporter": "python",
   "pygments_lexer": "ipython3",
   "version": "3.7.4"
  }
 },
 "nbformat": 4,
 "nbformat_minor": 2
}
