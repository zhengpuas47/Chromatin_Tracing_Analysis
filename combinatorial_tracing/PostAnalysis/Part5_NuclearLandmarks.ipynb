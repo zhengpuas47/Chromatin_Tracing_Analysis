{
 "cells": [
  {
   "cell_type": "markdown",
   "metadata": {},
   "source": [
    "__Author__: Bogdan Bintu\n",
    "\n",
    "__Email__: bbintu@g.harvard.edu\n",
    "\n",
    "__Date__:3/4/2020"
   ]
  },
  {
   "cell_type": "code",
   "execution_count": 3,
   "metadata": {},
   "outputs": [],
   "source": [
    "import cPickle as pickle\n",
    "import numpy as np\n",
    "import os\n",
    "import matplotlib.pylab as plt\n",
    "import matplotlib\n",
    "import matplotlib\n",
    "matplotlib.rcParams['pdf.fonttype'] = 42\n",
    "matplotlib.rcParams['font.size']=15\n",
    "matplotlib.rcParams['font.family']='Arial'"
   ]
  },
  {
   "cell_type": "markdown",
   "metadata": {},
   "source": [
    "### Load data"
   ]
  },
  {
   "cell_type": "code",
   "execution_count": 34,
   "metadata": {},
   "outputs": [],
   "source": [
    "folder = r'\\Data'\n",
    "fid = open(folder+os.sep+r'genomic-scale-with-transcription.tsv','r')\n",
    "lines = np.array([ln[:-1].split('\\t')for ln in fid if len(ln)>0])\n",
    "zxy = np.array(lines[1:,:3][:],dtype=np.float)\n",
    "zxy = zxy.reshape([-1,2082,3])/1000 #transform to um"
   ]
  },
  {
   "cell_type": "code",
   "execution_count": 5,
   "metadata": {},
   "outputs": [],
   "source": [
    "Transcr = np.array(['on' in e for e in lines[1:,8]])\n",
    "Transcr_WT = Transcr.reshape([-1,1041])"
   ]
  },
  {
   "cell_type": "code",
   "execution_count": 6,
   "metadata": {},
   "outputs": [
    {
     "name": "stderr",
     "output_type": "stream",
     "text": [
      "C:\\Users\\Bogdan\\Anaconda3\\envs\\py2\\lib\\site-packages\\ipykernel_launcher.py:6: RuntimeWarning: invalid value encountered in divide\n",
      "  \n"
     ]
    }
   ],
   "source": [
    "#Please see Part 3 how to calculate densities\n",
    "resWT = np.load(r'Data\\densityIMR90Untreated.npy')\n",
    "keep = slice(None)\n",
    "AD = resWT[keep,0,0,:]\n",
    "BD = resWT[keep,1,0,:]\n",
    "Dratio_WT = AD/BD\n",
    "Dratio_WT = Dratio_WT.reshape([-1,1041])[-len(Transcr_WT):]\n",
    "\n",
    "good_WT = (~np.isnan(zxy[:,:,0])).reshape([-1,1041])"
   ]
  },
  {
   "cell_type": "code",
   "execution_count": 21,
   "metadata": {},
   "outputs": [],
   "source": [
    "tot_distsNUC_WT_ = np.array(lines[1:,-2],dtype=np.float).reshape([-1,1041])/1000\n",
    "tot_distsSC_WT_ = np.array(lines[1:,-1],dtype=np.float).reshape([-1,1041])/1000\n",
    "tot_distsLAM_WT_ = np.array(lines[1:,-3],dtype=np.float).reshape([-1,1041])/1000"
   ]
  },
  {
   "cell_type": "markdown",
   "metadata": {},
   "source": [
    "### Nucleoli association"
   ]
  },
  {
   "cell_type": "code",
   "execution_count": null,
   "metadata": {},
   "outputs": [],
   "source": [
    "#distances are assumed in um\n",
    "tot_dists = tot_distsNUC_WT_\n",
    "asocs = 1.*np.sum(tot_dists<0.25,0)/np.sum(tot_dists>-1,0)\n",
    "lens = [76, 80, 66, 63, 60, 55, 53, 48, 40, 43, 44, 44, 33, 30, 31, 30, 33, 33, 33, 33, 31, 31, 51]\n",
    "edges = np.cumsum([0]+lens)\n",
    "from matplotlib import cm\n",
    "plt.figure(figsize=(15,3))\n",
    "colors = list(cm.tab20.colors)+list(cm.Dark2.colors)\n",
    "for i in range(len(edges)-1):\n",
    "    plt.semilogy(np.arange(edges[i],edges[i+1]),asocs[edges[i]:edges[i+1]],'.-',color = colors[i])"
   ]
  },
  {
   "cell_type": "markdown",
   "metadata": {},
   "source": [
    "### Lamina and speckle"
   ]
  },
  {
   "cell_type": "code",
   "execution_count": 24,
   "metadata": {},
   "outputs": [
    {
     "name": "stderr",
     "output_type": "stream",
     "text": [
      "C:\\Users\\Bogdan\\Anaconda3\\envs\\py2\\lib\\site-packages\\ipykernel_launcher.py:2: RuntimeWarning: invalid value encountered in less\n",
      "  \n",
      "C:\\Users\\Bogdan\\Anaconda3\\envs\\py2\\lib\\site-packages\\ipykernel_launcher.py:3: RuntimeWarning: invalid value encountered in less\n",
      "  This is separate from the ipykernel package so we can avoid doing imports until\n",
      "C:\\Users\\Bogdan\\Anaconda3\\envs\\py2\\lib\\site-packages\\ipykernel_launcher.py:4: RuntimeWarning: invalid value encountered in less\n",
      "  after removing the cwd from sys.path.\n"
     ]
    }
   ],
   "source": [
    "nuc_cutoff = 0.25\n",
    "frLAM_WT = 1.*np.sum(tot_distsLAM_WT_<nuc_cutoff,0)/np.sum(good_WT,0)\n",
    "frNUC_WT = 1.*np.sum(tot_distsNUC_WT_<nuc_cutoff,0)/np.sum(good_WT,0)\n",
    "frSC_WT = 1.*np.sum(tot_distsSC_WT_<nuc_cutoff,0)/np.sum(good_WT,0)\n",
    "\n",
    "dLAM_WT = np.nanmedian(tot_distsLAM_WT_,axis=0)\n",
    "dSC_WT = np.nanmedian(tot_distsSC_WT_,axis=0)\n",
    "dNUC_WT = np.nanmedian(tot_distsNUC_WT_,axis=0)\n",
    "dRAT_WT = np.nanmedian(Dratio_WT,axis=0)"
   ]
  },
  {
   "cell_type": "markdown",
   "metadata": {},
   "source": [
    "### Speckle association and A/B density"
   ]
  },
  {
   "cell_type": "code",
   "execution_count": null,
   "metadata": {},
   "outputs": [],
   "source": [
    "fig=plt.figure()\n",
    "plt.semilogy(frLAM_WT,dRAT_WT,'o',color='gray',markeredgecolor='k')\n",
    "plt.ylabel(\"A/B density ratio\")\n",
    "plt.xlabel(\"Fraction of cells lamina-associated\")\n",
    "#fig.savefig(r'C:\\Users\\Bogdan\\Dropbox\\ScienceWGCT_Figures\\baseimages\\fr_lamina_ABdensity.pdf')"
   ]
  },
  {
   "cell_type": "markdown",
   "metadata": {},
   "source": [
    "### Lamina association and A/B density"
   ]
  },
  {
   "cell_type": "code",
   "execution_count": null,
   "metadata": {},
   "outputs": [],
   "source": [
    "fig=plt.figure()\n",
    "cor = np.round(np.corrcoef(np.log(frSC_WT),np.log(dRAT_WT))[0,1],2)\n",
    "plt.loglog(frSC_WT,dRAT_WT,'o',color='orange',markeredgecolor='k',label='r = '+str(cor))\n",
    "plt.ylabel(\"A/B density ratio\")\n",
    "plt.xlabel(\"Fraction of cells speckle-associated\")\n",
    "plt.title('Cut-off distance: '+str(int(nuc_cutoff*1000))+' nm')\n",
    "plt.legend()\n",
    "#fig.savefig(r'C:\\Users\\Bogdan\\Dropbox\\ScienceWGCT_Figures\\baseimages\\fr_lamina_ABdensity.pdf')"
   ]
  },
  {
   "cell_type": "markdown",
   "metadata": {},
   "source": [
    "### Transcriptional dependent association"
   ]
  },
  {
   "cell_type": "code",
   "execution_count": null,
   "metadata": {},
   "outputs": [],
   "source": [
    "nuc_cutoof = 0.25\n",
    "Asocs_LAM_WT = tot_distsLAM_WT_<nuc_cutoof\n",
    "Asocs_NUC_WT = tot_distsNUC_WT_<nuc_cutoof\n",
    "Asocs_SC_WT = tot_distsSC_WT_<nuc_cutoof\n",
    "dif = (1041+100)\n",
    "\n",
    "fig=plt.figure(figsize=(12,7))\n",
    "Asocs = Asocs_LAM_WT##########################################\n",
    "Transcr_WT = Transcr_WT==1\n",
    "aSs = 1.*np.sum(Asocs*(~Transcr_WT),axis=0)/np.sum((~Transcr_WT)*good_WT,axis=0)\n",
    "aTs = 1.*np.sum(Asocs*(Transcr_WT),axis=0)/np.sum(Transcr_WT*good_WT,axis=0)\n",
    "anNs = 1.*np.sum(Transcr_WT*(~Asocs),axis=0)/np.sum((~Asocs)*good_WT,axis=0)\n",
    "aNs = 1.*np.sum(Transcr_WT*(Asocs),axis=0)/np.sum(Asocs*good_WT,axis=0)\n",
    "plt.semilogy(np.arange(len(aTs))+dif*0,aTs/aSs,'o',color='gray',markeredgecolor='k')\n",
    "plt.plot(np.arange(len(aTs))+dif*0,[np.nanmean(aTs/aSs)]*len(aTs),lw=5,color='k')\n",
    "\n",
    "fr = aTs/aSs\n",
    "fr = 100.*np.sum(fr>1)/np.sum(fr>-1)\n",
    "print(fr)\n",
    "\n",
    "Asocs = Asocs_NUC_WT##########################################\n",
    "Transcr_WT = Transcr_WT==1\n",
    "aSs = 1.*np.sum(Asocs*(~Transcr_WT),axis=0)/np.sum((~Transcr_WT)*good_WT,axis=0)\n",
    "aTs = 1.*np.sum(Asocs*(Transcr_WT),axis=0)/np.sum(Transcr_WT*good_WT,axis=0)\n",
    "anNs = 1.*np.sum(Transcr_WT*(~Asocs),axis=0)/np.sum((~Asocs)*good_WT,axis=0)\n",
    "aNs = 1.*np.sum(Transcr_WT*(Asocs),axis=0)/np.sum(Asocs*good_WT,axis=0)\n",
    "plt.semilogy(np.arange(len(aTs))+dif*1,aTs/aSs,'o',color='cyan',markeredgecolor='k')\n",
    "plt.plot(np.arange(len(aTs))+dif*1,[np.nanmean(aTs/aSs)]*len(aTs),lw=5,color='k')\n",
    "\n",
    "fr = aTs/aSs\n",
    "fr = 100.*np.sum(fr>1)/np.sum(fr>-1)\n",
    "print(fr)\n",
    "\n",
    "Asocs = Asocs_SC_WT##########################################\n",
    "Transcr_WT = Transcr_WT==1\n",
    "aSs = 1.*np.sum(Asocs*(~Transcr_WT),axis=0)/np.sum((~Transcr_WT)*good_WT,axis=0)\n",
    "aTs = 1.*np.sum(Asocs*(Transcr_WT),axis=0)/np.sum(Transcr_WT*good_WT,axis=0)\n",
    "anNs = 1.*np.sum(Transcr_WT*(~Asocs),axis=0)/np.sum((~Asocs)*good_WT,axis=0)\n",
    "aNs = 1.*np.sum(Transcr_WT*(Asocs),axis=0)/np.sum(Asocs*good_WT,axis=0)\n",
    "\n",
    "fr = aTs/aSs\n",
    "fr = 100.*np.sum(fr>1)/np.sum(fr>-1)\n",
    "print(fr)\n",
    "plt.semilogy(np.arange(len(aTs))+dif*2,aTs/aSs,'o',color='orange',markeredgecolor='k')\n",
    "plt.plot(np.arange(len(aTs))+dif*2,[np.nanmean(aTs/aSs)]*len(aTs),lw=5,color='k')\n",
    "plt.plot([0,dif*3],[1,1],'k',lw=5)\n",
    "plt.ylim([0.1,3.5])\n",
    "ax1 = fig.get_axes()[0]\n",
    "ax1.get_yaxis().set_major_formatter(matplotlib.ticker.ScalarFormatter())\n",
    "plt.yticks([0.12,0.25,0.5,1,2])\n",
    "plt.ylabel('Association enrichment')\n",
    "#ax1.get_yaxis().get_major_formatter().labelOnlyBase = False\n",
    "#fig.savefig(r'C:\\Users\\Bogdan\\Dropbox\\2020 Chromatin Imaging Manuscript\\Revision\\Bogdan_Figures\\base_images\\CutoffNuclearBodies\\250nm_WT_association_Transcription.pdf')\n",
    "#plt.ylabel('')\n",
    "plt.title('250nm cutoff')"
   ]
  },
  {
   "cell_type": "markdown",
   "metadata": {},
   "source": [
    "### Transcriptional dependence in different nuclear environments"
   ]
  },
  {
   "cell_type": "code",
   "execution_count": null,
   "metadata": {},
   "outputs": [],
   "source": [
    "nuc_cutoof = 0.25\n",
    "Asocs_LAM_WT = tot_distsLAM_WT_<nuc_cutoof\n",
    "Asocs_NUC_WT = tot_distsNUC_WT_<nuc_cutoof\n",
    "Asocs_SC_WT = tot_distsSC_WT_<nuc_cutoof\n",
    "dif = (1041+100)\n",
    "\n",
    "fig=plt.figure(figsize=(15,7))#4,7\n",
    "dif = (1041+100)\n",
    "cols = [[0.2,0.2,0.2],'orange','yellow',[0,0.5,1],[0.5,1,1],'white']\n",
    "#cols = ['orange',[0.5,0.5,0.5],[0.25,0.25,0.25],[0.75,0.75,0.75]]\n",
    "good_WT = good_WT>0\n",
    "Asocslist = [good_WT,Asocs_SC_WT,(~Asocs_SC_WT)&good_WT,Asocs_LAM_WT,(~Asocs_LAM_WT)&good_WT,\n",
    "             (~Asocs_SC_WT)&(~Asocs_LAM_WT)&good_WT]#&at_reg,good_WT&at_reg]\n",
    "#Asocslist = [Asocs_SC_WT,(~Asocs_LAM_WT)&good_WT,good_WT]\n",
    "#Asocslist = [Asocs_SC_WT,good_WT]\n",
    "\n",
    "lims = [-0.4,0.6]\n",
    "no_pts = []\n",
    "for iAsocs,Asocs in enumerate(Asocslist):\n",
    "    Transcr =Transcr_WT==1\n",
    "    DratioT = Dratio_WT.copy()\n",
    "    DratioT[~(Transcr&Asocs&good_WT)]=np.nan\n",
    "    dT = np.nanmedian(DratioT,0)\n",
    "    DratioS = Dratio_WT.copy()\n",
    "    DratioS[~((~Transcr)&Asocs&good_WT)]=np.nan\n",
    "    dS = np.nanmedian(DratioS,0)\n",
    "    logTS = np.log(dT/dS)/np.log(2)\n",
    "    plt.plot(np.arange(1041)+dif*iAsocs,logTS,'o',color=cols[iAsocs],markeredgecolor='k')\n",
    "    plt.plot(np.arange(1041)+dif*iAsocs,[np.nanmedian(logTS)]*1041,lw=5,color='r')#cols[iAsocs])\n",
    "    fr = 1.*np.sum((dT/dS)>1)/np.sum((dT/dS)>0)\n",
    "    no_pts.append([np.sum(logTS<lims[0]),np.sum(logTS>lims[1])])\n",
    "    print(np.sum(logTS<lims[0]),np.sum(logTS>lims[1]))\n",
    "    print(\"Number above 0:\"+str(fr))\n",
    "    from scipy.stats import wilcoxon as wilcoxon\n",
    "    print wilcoxon(np.log(dT),np.log(dS))\n",
    "#plt.title('B regions')\n",
    "#plt.semilogy(np.arange(len(frLAM_am))+dif*0,1./frLAM_am*frLAM_WT,'o',color='gray',markeredgecolor='k')\n",
    "#plt.semilogy(np.arange(len(frLAM_am))+dif*0,[np.nanmean(1./frLAM_am*frLAM_WT)]*1041,lw=5,color='gray')\n",
    "#plt.semilogy(np.arange(len(frNUC_am))+dif*1,1./frNUC_am*frNUC_WT,'o',color='cyan',markeredgecolor='k')\n",
    "#plt.semilogy(np.arange(len(frNUC_am))+dif*1,[np.nanmean(1./frNUC_am*frNUC_WT)]*1041,lw=5,color='cyan')\n",
    "plt.plot([0,dif*len(Asocslist)],[0,0],':r',lw=5)\n",
    "plt.ylabel('Log2 difference of \\n trans A/B density ratio')\n",
    "ax1 = fig.get_axes()[0]\n",
    "ax1.get_yaxis().set_major_formatter(matplotlib.ticker.ScalarFormatter())\n",
    "#plt.yticks([0.5,1,2])\n",
    "\n",
    "plt.ylim(lims)\n",
    "plt.xticks([dif*iAsocs+dif/2 for iAsocs in range(len(Asocslist))],\n",
    "           ['All data','Speckle associated','Not speckle-associated','Lamina-associated','Not lamina-associated','Not lamina-associated\\n and not speckle-associated'],rotation=10)\n",
    "plt.title('Transcribing/Silent -'+str(int(nuc_cutoof*1000))+'nm cut-off')#\\nNo of cut points [above,below]:'+str(no_pts))\n",
    "#fig.savefig(r'C:\\Users\\bogdan\\Dropbox\\ScienceWGCT_Figures\\baseimages\\Fig4_AB_enrichment_transcr_SCvsallrest_v3.pdf')\n",
    "#folder = r'C:\\Users\\Bogdan\\Dropbox\\2020 Chromatin Imaging Manuscript\\Revision\\FinalFigures\\Figure 7\\Subpanels'\n",
    "#import os\n",
    "#fig.savefig(folder+os.sep+r'Fig7DTranscriptionAsociation_LongStrip-'+str(int(nuc_cutoof*1000))+'-.pdf')\n",
    "\n"
   ]
  },
  {
   "cell_type": "code",
   "execution_count": null,
   "metadata": {},
   "outputs": [],
   "source": []
  }
 ],
 "metadata": {
  "kernelspec": {
   "display_name": "Python 2",
   "language": "python",
   "name": "python2"
  },
  "language_info": {
   "codemirror_mode": {
    "name": "ipython",
    "version": 2
   },
   "file_extension": ".py",
   "mimetype": "text/x-python",
   "name": "python",
   "nbconvert_exporter": "python",
   "pygments_lexer": "ipython2",
   "version": "2.7.16"
  }
 },
 "nbformat": 4,
 "nbformat_minor": 2
}
