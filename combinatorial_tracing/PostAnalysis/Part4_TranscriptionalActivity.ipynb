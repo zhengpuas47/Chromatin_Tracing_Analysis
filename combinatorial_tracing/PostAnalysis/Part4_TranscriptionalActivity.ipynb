{
 "cells": [
  {
   "cell_type": "markdown",
   "metadata": {},
   "source": [
    "__Author__: Bogdan Bintu\n",
    "\n",
    "__Email__: bbintu@g.harvard.edu\n",
    "\n",
    "__Date__:3/4/2020"
   ]
  },
  {
   "cell_type": "markdown",
   "metadata": {},
   "source": [
    "### Trans A/B density ratio at transcribing vs silent"
   ]
  },
  {
   "cell_type": "code",
   "execution_count": 2,
   "metadata": {},
   "outputs": [],
   "source": [
    "import matplotlib\n",
    "matplotlib.rcParams['pdf.fonttype'] = 42\n",
    "matplotlib.rcParams['font.size']=15\n",
    "matplotlib.rcParams['font.family']='Arial'\n",
    "import matplotlib.pylab as plt\n",
    "import numpy as np\n",
    "import os"
   ]
  },
  {
   "cell_type": "markdown",
   "metadata": {},
   "source": [
    "### Load data"
   ]
  },
  {
   "cell_type": "code",
   "execution_count": 4,
   "metadata": {},
   "outputs": [],
   "source": [
    "folder = r'\\Data'\n",
    "fid = open(folder+os.sep+r'genomic-scale-with-transcription.tsv','r')\n",
    "lines = np.array([ln[:-1].split('\\t')for ln in fid if len(ln)>0])\n",
    "zxy = np.array(lines[1:,:3][:],dtype=np.float)\n",
    "zxy = zxy.reshape([-1,2082,3])/1000 #transform to um"
   ]
  },
  {
   "cell_type": "code",
   "execution_count": 11,
   "metadata": {},
   "outputs": [],
   "source": [
    "Transcr = np.array(['on' in e for e in lines[1:,8]])\n",
    "Transcr_WT = Transcr.reshape([-1,1041])"
   ]
  },
  {
   "cell_type": "markdown",
   "metadata": {},
   "source": [
    "### Load density"
   ]
  },
  {
   "cell_type": "code",
   "execution_count": 23,
   "metadata": {},
   "outputs": [
    {
     "name": "stderr",
     "output_type": "stream",
     "text": [
      "C:\\Users\\Bogdan\\Anaconda3\\envs\\py2\\lib\\site-packages\\ipykernel_launcher.py:4: RuntimeWarning: invalid value encountered in divide\n",
      "  after removing the cwd from sys.path.\n"
     ]
    }
   ],
   "source": [
    "#Please see Part 3 how to calculate densities\n",
    "resWT = np.load(r'Data\\densityIMR90Untreated.npy')\n",
    "keep = slice(None)\n",
    "AD = resWT[keep,0,0,:]\n",
    "BD = resWT[keep,1,0,:]\n",
    "Dratio_WT = AD/BD\n",
    "Dratio_WT = Dratio_WT.reshape([-1,1041])[-len(Transcr_WT):]\n",
    "\n",
    "good_WT = (~np.isnan(zxy[:,:,0])).reshape([-1,1041])"
   ]
  },
  {
   "cell_type": "markdown",
   "metadata": {},
   "source": [
    "### A/B density as a function of transcriptional state"
   ]
  },
  {
   "cell_type": "code",
   "execution_count": null,
   "metadata": {},
   "outputs": [],
   "source": [
    "Transcr =Transcr_WT==1\n",
    "DratioT = Dratio_WT.copy()\n",
    "DratioT[~(Transcr&good_WT)]=np.nan\n",
    "dT = np.nanmedian(DratioT,0)\n",
    "DratioS = Dratio_WT.copy()\n",
    "DratioS[~((~Transcr)&good_WT)]=np.nan\n",
    "dS = np.nanmedian(DratioS,0)\n",
    "logTS = np.log(dT/dS)/np.log(2)\n",
    "nanlogTS = logTS[~np.isnan(logTS)]\n",
    "nanlogTS_sort = np.sort(nanlogTS)\n",
    "fig = plt.figure()\n",
    "fr=1.*np.sum(nanlogTS_sort>0)/len(nanlogTS_sort)\n",
    "plt.title('Trascribing/Silent\\n'+str(np.round(fr,2))+' increase')\n",
    "plt.plot(nanlogTS_sort,'o',color='orange')\n",
    "plt.plot([0,len(nanlogTS_sort)],[0,0],lw=4,color='k')\n",
    "plt.ylabel('Log2 difference of \\ntrans A/B density ratio')\n",
    "plt.xlabel('Locus index')\n",
    "\n",
    "#folder = r'C:\\Users\\Bogdan\\Dropbox\\2020 Chromatin Imaging Manuscript\\Revision\\FinalFigures\\Figure 7\\Subpanels'\n",
    "#import os\n",
    "#fig.savefig(folder+os.sep+r'Fig7BTranscription_final.pdf')"
   ]
  },
  {
   "cell_type": "markdown",
   "metadata": {},
   "source": [
    "### Transcriptional state as a function of A/B density"
   ]
  },
  {
   "cell_type": "code",
   "execution_count": null,
   "metadata": {},
   "outputs": [],
   "source": [
    "Transcr =Transcr_WT==1\n",
    "perc_75 = np.nanpercentile(Dratio_WT,75,axis=0)\n",
    "perc_25 = np.nanpercentile(Dratio_WT,25,axis=0)\n",
    "Tr_high = (Transcr&good_WT)\n",
    "keep = (Dratio_WT>perc_75)&good_WT\n",
    "Tr_high[~keep] = 0\n",
    "fr_high = 1.*np.sum(Tr_high,axis=0)/np.sum(keep,axis=0)\n",
    "\n",
    "Tr_low = (Transcr&good_WT)\n",
    "keep = (Dratio_WT<perc_25)&good_WT\n",
    "Tr_low[~keep] = 0\n",
    "fr_low = 1.*np.sum(Tr_low,axis=0)/np.sum(keep,axis=0)\n",
    "\n",
    "\n",
    "logTS = np.log(fr_high/fr_low)/np.log(2)\n",
    "nanlogTS = logTS[~np.isnan(logTS)]\n",
    "nanlogTS_sort = np.sort(nanlogTS)\n",
    "\n",
    "fr=1.*np.sum(nanlogTS_sort>0)/len(nanlogTS_sort)\n",
    "\n",
    "fig = plt.figure()\n",
    "plt.title('High/low trans A/B density ratio\\n'+str(np.round(fr,2))+' increase')\n",
    "plt.plot(nanlogTS_sort,'o',color='orange')\n",
    "plt.plot([0,len(nanlogTS_sort)],[0,0],lw=4,color='k')\n",
    "plt.ylabel('Log2 difference of firing rate')\n",
    "plt.xlabel('Locus index')\n",
    "\n",
    "#folder = r'C:\\Users\\Bogdan\\Dropbox\\2020 Chromatin Imaging Manuscript\\Revision\\FinalFigures\\Figure 7\\Subpanels'\n",
    "#import os\n",
    "#fig.savefig(folder+os.sep+r'Fig7CTranscriptionIn25pecr75percDensity_final.pdf')"
   ]
  },
  {
   "cell_type": "code",
   "execution_count": null,
   "metadata": {},
   "outputs": [],
   "source": []
  }
 ],
 "metadata": {
  "kernelspec": {
   "display_name": "Python 2",
   "language": "python",
   "name": "python2"
  },
  "language_info": {
   "codemirror_mode": {
    "name": "ipython",
    "version": 2
   },
   "file_extension": ".py",
   "mimetype": "text/x-python",
   "name": "python",
   "nbconvert_exporter": "python",
   "pygments_lexer": "ipython2",
   "version": "2.7.16"
  }
 },
 "nbformat": 4,
 "nbformat_minor": 2
}
