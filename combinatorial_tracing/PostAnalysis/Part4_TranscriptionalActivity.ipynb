{
 "cells": [
  {
   "cell_type": "markdown",
   "metadata": {},
   "source": [
    "__Author__: Bogdan Bintu\n",
    "\n",
    "__Email__: bbintu@g.harvard.edu\n",
    "\n",
    "__Date__:3/4/2020"
   ]
  },
  {
   "cell_type": "markdown",
   "metadata": {},
   "source": [
    "### Trans A/B density ratio at transcribing vs silent"
   ]
  },
  {
   "cell_type": "code",
   "execution_count": null,
   "metadata": {},
   "outputs": [],
   "source": [
    "import matplotlib\n",
    "matplotlib.rcParams['pdf.fonttype'] = 42\n",
    "matplotlib.rcParams['font.size']=15\n",
    "matplotlib.rcParams['font.family']='Arial'"
   ]
  },
  {
   "cell_type": "code",
   "execution_count": null,
   "metadata": {},
   "outputs": [],
   "source": [
    "resWT = np.load(r'Data\\Densities\\densityIMR90Untreated.npy');\n",
    "Transcr = np.load(r'Data\\Transcription\\transcriptionIMR90Untreated.npy');"
   ]
  },
  {
   "cell_type": "code",
   "execution_count": null,
   "metadata": {},
   "outputs": [],
   "source": [
    "AD = resWT[:,2,1,:]\n",
    "BD = resWT[:,3,1,:]\n",
    "Dratio=AD/BD\n",
    "DratioT = Dratio.copy()\n",
    "DratioT[~Transcr]=np.nan\n",
    "dT = np.nanmedian(DratioT,0)\n",
    "\n",
    "DratioS = Dratio.copy()\n",
    "DratioS[Transcr]=np.nan\n",
    "dS = np.nanmedian(DratioS,0)\n",
    "\n",
    "inds = np.argsort(dS)\n",
    "fig = plt.figure()\n",
    "\n",
    "plt.plot(dT[inds],'o',color='red',label='Transcribed')\n",
    "plt.plot(dS[inds],'o',color='blue',label='Silent')\n",
    "plt.ylabel('A/B density ratio')\n",
    "#plt.ylabel('A region index')\n",
    "#plt.yticks([0.5,0.75,1.])\n",
    "plt.legend()\n",
    "plt.xlabel('Regions index')"
   ]
  }
 ],
 "metadata": {
  "kernelspec": {
   "display_name": "Python 2",
   "language": "python",
   "name": "python2"
  },
  "language_info": {
   "codemirror_mode": {
    "name": "ipython",
    "version": 2
   },
   "file_extension": ".py",
   "mimetype": "text/x-python",
   "name": "python",
   "nbconvert_exporter": "python",
   "pygments_lexer": "ipython2",
   "version": "2.7.16"
  }
 },
 "nbformat": 4,
 "nbformat_minor": 2
}
