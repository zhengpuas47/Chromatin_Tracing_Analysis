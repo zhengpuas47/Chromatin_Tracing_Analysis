{
 "cells": [
  {
   "cell_type": "markdown",
   "metadata": {},
   "source": [
    "__Author__: Bogdan Bintu\n",
    "\n",
    "__Email__: bbintu@g.harvard.edu\n",
    "\n",
    "__Date__:3/4/2020"
   ]
  },
  {
   "cell_type": "code",
   "execution_count": 1,
   "metadata": {},
   "outputs": [],
   "source": [
    "import matplotlib\n",
    "matplotlib.rcParams['pdf.fonttype'] = 42\n",
    "matplotlib.rcParams['font.size']=15\n",
    "matplotlib.rcParams['font.family']='Arial'\n",
    "import matplotlib.pylab as plt\n",
    "import numpy as np\n",
    "import os"
   ]
  },
  {
   "cell_type": "markdown",
   "metadata": {},
   "source": [
    "### Load data"
   ]
  },
  {
   "cell_type": "code",
   "execution_count": 2,
   "metadata": {},
   "outputs": [],
   "source": [
    "folder = r'Data'\n",
    "\n",
    "fid = open(folder+os.sep+r'genomic-scale.tsv','r')\n",
    "lines = np.array([ln[:-1].split('\\t')for ln in fid if len(ln)>0])\n",
    "zxy = np.array(lines[1:,:3][:],dtype=np.float)\n",
    "fid = open(folder+os.sep+r'genomic-scale-with transcription and nuclear bodies.tsv','r')\n",
    "lines = np.array([ln[:-1].split('\\t')for ln in fid if len(ln)>0])\n",
    "zxy = np.concatenate([zxy,np.array(lines[1:,:3][:],dtype=np.float)])\n",
    "zxy = zxy.reshape([-1,2082,3])/1000 #transform to um"
   ]
  },
  {
   "cell_type": "markdown",
   "metadata": {},
   "source": [
    "### Calculate A and B densities in single cells"
   ]
  },
  {
   "cell_type": "code",
   "execution_count": 3,
   "metadata": {},
   "outputs": [],
   "source": [
    "### Main function for calculating trans densities.\n",
    "def zxy_to_dens(zxy,deltas = [0.5],rgmed=5.8):# [0.1,0.25,0.5,0.75,1]\n",
    "    \"\"\"\n",
    "    This computes the trans densities of A and B for each locus.\n",
    "    It takes a list of cells with positions (in um), \n",
    "    and a list of cutoff distances (in um) \n",
    "    and a radius of gyration for normalizing to. This is the median radius of gyration of all spots across all cels.\n",
    "    \"\"\"\n",
    "    \n",
    "    import numpy as np\n",
    "    from scipy.spatial.distance import pdist, squareform,cdist\n",
    "    AB = 'B,B,A,A,B,B,A,A,A,B,A,A,A,B,A,B,B,A,B,B,B,B,B,B,B,A,B,B,A,A,A,B,B,B,B,B,B,B,B,A,nan,A,A,A,B,A,B,A,B,A,B,A,B,A,A,A,B,B,B,A,A,A,B,B,A,B,B,A,B,B,B,B,B,B,B,A,B,B,A,A,B,B,B,A,A,B,A,B,A,A,B,B,B,A,B,B,A,B,A,B,A,B,B,B,B,B,nan,A,B,A,B,B,A,B,B,A,B,B,B,B,A,B,B,A,B,A,B,B,A,B,B,A,A,A,B,B,A,B,A,A,B,B,A,B,B,B,B,A,A,B,A,B,A,B,B,A,B,B,B,B,A,B,B,A,B,A,A,B,B,A,A,A,B,B,A,B,B,A,A,B,B,B,B,B,A,B,nan,B,A,A,B,A,B,A,B,A,A,A,A,B,B,A,B,B,B,A,B,B,B,B,B,A,A,B,A,B,A,A,B,B,A,A,A,B,B,B,A,B,B,A,A,B,B,B,A,A,B,B,nan,A,A,B,B,B,B,B,B,B,B,B,A,B,B,B,A,B,B,B,B,A,B,A,A,A,B,B,B,A,A,B,B,A,B,B,A,B,B,B,B,B,A,B,A,B,A,B,B,A,B,B,B,B,B,B,B,A,B,A,B,B,nan,B,A,A,B,B,A,B,A,B,A,A,A,B,B,A,A,B,B,B,B,B,B,B,B,A,B,B,B,A,A,B,A,B,A,B,B,B,B,B,B,B,B,A,A,A,B,B,A,A,A,A,B,B,A,A,A,B,A,B,B,B,A,A,B,B,B,B,A,B,B,B,B,A,B,B,B,B,B,A,A,B,B,B,B,B,A,A,A,B,A,A,A,A,B,B,B,B,B,B,B,A,B,B,B,B,B,B,B,A,A,A,B,A,A,A,B,B,B,nan,B,A,B,B,A,A,A,A,B,B,A,B,A,A,A,A,B,B,A,B,B,B,A,B,A,A,B,B,B,B,B,B,B,B,B,A,B,B,A,B,B,B,A,B,B,A,A,nan,A,B,A,B,B,B,B,A,A,B,B,A,B,B,B,B,B,A,B,A,B,B,B,B,A,A,B,B,B,B,B,A,nan,B,B,B,B,B,B,B,B,A,B,B,A,B,nan,nan,B,B,B,B,B,B,B,B,B,B,A,A,B,A,B,A,A,B,B,A,A,A,A,B,B,B,A,B,A,A,A,B,B,B,A,A,B,nan,A,nan,A,B,B,B,B,B,A,A,A,A,B,B,A,B,A,B,B,A,B,B,B,B,B,B,B,B,B,B,A,B,A,A,B,B,B,A,B,B,A,A,B,B,B,A,nan,B,B,B,A,A,A,A,A,B,B,B,B,A,A,B,B,A,B,A,B,A,B,A,B,B,B,B,A,A,B,B,B,B,B,B,A,B,B,nan,B,B,B,A,A,A,A,B,B,A,B,B,B,A,B,B,B,A,A,B,B,B,A,B,B,B,B,B,A,B,B,A,nan,A,A,B,B,B,B,B,A,A,B,B,B,B,B,B,B,B,B,B,B,B,B,B,B,B,B,B,B,B,B,B,nan,nan,B,B,B,B,B,B,B,B,B,B,A,A,B,B,B,B,A,B,A,B,B,B,B,B,B,B,B,A,A,nan,nan,B,B,B,B,A,B,A,A,B,A,B,B,B,B,B,A,A,A,B,A,A,B,B,B,A,B,B,B,B,A,B,B,B,B,A,B,B,B,B,A,B,B,nan,B,B,B,A,B,B,B,A,A,B,B,B,B,B,A,A,A,A,A,B,B,B,A,A,B,nan,B,A,B,B,A,A,A,A,A,A,B,B,B,A,A,A,A,B,B,A,A,A,A,B,B,B,A,A,B,nan,nan,A,A,B,B,B,B,A,B,A,B,A,B,B,B,A,A,B,B,B,A,A,B,A,A,A,A,A,A,B,B,A,B,A,B,A,A,B,B,nan,nan,B,B,B,B,B,B,A,A,A,A,A,A,A,B,B,B,B,B,B,A,B,B,B,B,B,B,B,B,B,B,B,nan,nan,nan,A,A,A,B,B,B,B,B,B,A,B,B,B,B,B,B,A,nan,B,B,nan,nan,B,B,B,B,B,B,B,B,B,B,B,B,B,B,B,B,B,A,B,B,B,B,B,B,A,A,nan,nan,nan,nan,B,A,A,A,A,A,B,A,A,A,A,A,B,B,A,A,A,A,A,A,A,A,A,A,B,B,A,A,A,A,A,A,A,A,A,A,A,A,A,A,A,A,A,A,A,A,nan,A,A,A,A,A,A,A,A,A,A,A,B,B,B,B,B,B,B,B,B,B,B,B,B,B,B,B,B,B,B,B'\n",
    "    AB=np.array(AB.split(','))\n",
    "    lens = [76, 80, 66, 63, 60, 55, 53, 48, 40, 43, 44, 44, 33, 30, 31, 30, 33, 33, 33, 33, 31, 31, 51]\n",
    "    edges = np.cumsum([0]+lens)\n",
    "    A,B = AB=='A',AB=='B'\n",
    "\n",
    "    A,B = np.concatenate([A,A]),np.concatenate([B,B])\n",
    "    A = np.where(A)[0]\n",
    "    B = np.where(B)[0]\n",
    "    dic_densA = [] #A density with the cells\n",
    "    dic_densB = [] #B density with the cells\n",
    "    dic_densA_norm = [] #normalized A density with the cells normalized to have the same scale (rg)\n",
    "    dic_densB_norm = [] #normalized A density with the cells normalized to have the same scale (rg)\n",
    "\n",
    "    M = squareform(pdist(zxy))\n",
    "    rg = np.sqrt(np.nanmean(np.sum((zxy-np.nanmean(zxy,axis=0))**2,-1),-1))\n",
    "    \n",
    "    #exclude cis\n",
    "    for i in range(len(lens)):\n",
    "        M[edges[i]:edges[i+1],edges[i]:edges[i+1]]=np.nan\n",
    "        M[edges[-1]+edges[i]:edges[-1]+edges[i+1],edges[-1]+edges[i]:edges[-1]+edges[i+1]]=np.nan\n",
    "\n",
    "    MB,MA=M[:,B]**2,M[:,A]**2\n",
    "    rgmed_rg_sq = (rgmed/rg)**2\n",
    "    for delta in deltas:\n",
    "        deltasq = 2*delta**2\n",
    "        Bdens_,Adens_ = np.nansum(np.exp(-MB/deltasq*rgmed_rg_sq),axis=-1),np.nansum(np.exp(-MA/deltasq*rgmed_rg_sq),axis=-1)\n",
    "        dic_densA_norm.append(Adens_)\n",
    "        dic_densB_norm.append(Bdens_)\n",
    "        Bdens_,Adens_ = np.nansum(np.exp(-MB/deltasq),axis=-1),np.nansum(np.exp(-MA/deltasq),axis=-1)\n",
    "        dic_densA.append(Adens_)\n",
    "        dic_densB.append(Bdens_)\n",
    "    \n",
    "    ### calculate for random A/B asigment\n",
    "    \n",
    "    AB = AB[np.random.permutation(len(AB))]\n",
    "    A,B = AB=='A',AB=='B'\n",
    "    A,B = np.concatenate([A,A]),np.concatenate([B,B])\n",
    "    A = np.where(A)[0]\n",
    "    B = np.where(B)[0]\n",
    "    \n",
    "    dic_densA_random = []\n",
    "    dic_densB_random = []\n",
    "    dic_densA_norm_random = []\n",
    "    dic_densB_norm_random = []\n",
    "    print M.shape,B.shape,A.shape\n",
    "    MB,MA=M[:,B]**2,M[:,A]**2\n",
    "    rgmed_rg_sq = (rgmed/rg)**2\n",
    "    for delta in deltas:\n",
    "        deltasq = 2*delta**2\n",
    "        Bdens_,Adens_ = np.nansum(np.exp(-MB/deltasq*rgmed_rg_sq),axis=-1),np.nansum(np.exp(-MA/deltasq*rgmed_rg_sq),axis=-1)\n",
    "        dic_densA_norm_random.append(Adens_)\n",
    "        dic_densB_norm_random.append(Bdens_)\n",
    "        Bdens_,Adens_ = np.nansum(np.exp(-MB/deltasq),axis=-1),np.nansum(np.exp(-MA/deltasq),axis=-1)\n",
    "        dic_densA_random.append(Adens_)\n",
    "        dic_densB_random.append(Bdens_)\n",
    "    \n",
    "    return dic_densA,dic_densB,dic_densA_norm,dic_densB_norm,dic_densA_random,dic_densB_random,dic_densA_norm_random,dic_densB_norm_random"
   ]
  },
  {
   "cell_type": "markdown",
   "metadata": {},
   "source": [
    "### Run the density analysis\n",
    "\n",
    "Note: This is slow, so I recommend running it in parallel using ipyparallel\n",
    "\n",
    "First start a terminal in jupyter:\n",
    "Got to:\n",
    "http://localhost:8888/tree and click new>Terminal\n",
    "\n",
    "and then input: >ipcluster start -n 40 "
   ]
  },
  {
   "cell_type": "code",
   "execution_count": 4,
   "metadata": {},
   "outputs": [
    {
     "name": "stdout",
     "output_type": "stream",
     "text": [
      "40\n"
     ]
    }
   ],
   "source": [
    "import ipyparallel as ipp\n",
    "from ipyparallel import Client\n",
    "rc = Client()\n",
    "print(len(rc))"
   ]
  },
  {
   "cell_type": "code",
   "execution_count": 5,
   "metadata": {},
   "outputs": [
    {
     "name": "stdout",
     "output_type": "stream",
     "text": [
      "489.06400013\n"
     ]
    }
   ],
   "source": [
    "import time\n",
    "start = time.time()\n",
    "res = rc[:40].map_sync(zxy_to_dens,zxy)\n",
    "end = time.time()\n",
    "print(end-start)\n",
    "res =np.array(res)"
   ]
  },
  {
   "cell_type": "code",
   "execution_count": 6,
   "metadata": {},
   "outputs": [],
   "source": [
    "np.save(r'densityIMR90Untreated.npy',res)"
   ]
  },
  {
   "cell_type": "markdown",
   "metadata": {},
   "source": [
    "#### Display the population average"
   ]
  },
  {
   "cell_type": "code",
   "execution_count": null,
   "metadata": {},
   "outputs": [],
   "source": [
    "keep = slice(None)\n",
    "#res = resWT\n",
    "AD = res[keep,0,0,:]\n",
    "BD = res[keep,1,0,:]\n",
    "Ad = np.nanmedian(AD.reshape([-1,1041]),0)\n",
    "Bd = np.nanmedian(BD.reshape([-1,1041]),0)\n",
    "ABratio = AD/BD\n",
    "ABratio = np.nanmedian(ABratio.reshape([-1,1041]),0)\n",
    "\n",
    "AD_rnd = res[keep,4,0,:]\n",
    "BD_rnd = res[keep,5,0,:]\n",
    "Ad_rnd = np.nanmedian(AD_rnd.reshape([-1,1041]),0)\n",
    "Bd_rnd = np.nanmedian(BD_rnd.reshape([-1,1041]),0)\n",
    "ABratio_rnd = AD_rnd/BD_rnd\n",
    "ABratio_rnd = np.nanmedian(ABratio_rnd.reshape([-1,1041]),0)\n",
    "\n",
    "AB = 'B,B,A,A,B,B,A,A,A,B,A,A,A,B,A,B,B,A,B,B,B,B,B,B,B,A,B,B,A,A,A,B,B,B,B,B,B,B,B,A,nan,A,A,A,B,A,B,A,B,A,B,A,B,A,A,A,B,B,B,A,A,A,B,B,A,B,B,A,B,B,B,B,B,B,B,A,B,B,A,A,B,B,B,A,A,B,A,B,A,A,B,B,B,A,B,B,A,B,A,B,A,B,B,B,B,B,nan,A,B,A,B,B,A,B,B,A,B,B,B,B,A,B,B,A,B,A,B,B,A,B,B,A,A,A,B,B,A,B,A,A,B,B,A,B,B,B,B,A,A,B,A,B,A,B,B,A,B,B,B,B,A,B,B,A,B,A,A,B,B,A,A,A,B,B,A,B,B,A,A,B,B,B,B,B,A,B,nan,B,A,A,B,A,B,A,B,A,A,A,A,B,B,A,B,B,B,A,B,B,B,B,B,A,A,B,A,B,A,A,B,B,A,A,A,B,B,B,A,B,B,A,A,B,B,B,A,A,B,B,nan,A,A,B,B,B,B,B,B,B,B,B,A,B,B,B,A,B,B,B,B,A,B,A,A,A,B,B,B,A,A,B,B,A,B,B,A,B,B,B,B,B,A,B,A,B,A,B,B,A,B,B,B,B,B,B,B,A,B,A,B,B,nan,B,A,A,B,B,A,B,A,B,A,A,A,B,B,A,A,B,B,B,B,B,B,B,B,A,B,B,B,A,A,B,A,B,A,B,B,B,B,B,B,B,B,A,A,A,B,B,A,A,A,A,B,B,A,A,A,B,A,B,B,B,A,A,B,B,B,B,A,B,B,B,B,A,B,B,B,B,B,A,A,B,B,B,B,B,A,A,A,B,A,A,A,A,B,B,B,B,B,B,B,A,B,B,B,B,B,B,B,A,A,A,B,A,A,A,B,B,B,nan,B,A,B,B,A,A,A,A,B,B,A,B,A,A,A,A,B,B,A,B,B,B,A,B,A,A,B,B,B,B,B,B,B,B,B,A,B,B,A,B,B,B,A,B,B,A,A,nan,A,B,A,B,B,B,B,A,A,B,B,A,B,B,B,B,B,A,B,A,B,B,B,B,A,A,B,B,B,B,B,A,nan,B,B,B,B,B,B,B,B,A,B,B,A,B,nan,nan,B,B,B,B,B,B,B,B,B,B,A,A,B,A,B,A,A,B,B,A,A,A,A,B,B,B,A,B,A,A,A,B,B,B,A,A,B,nan,A,nan,A,B,B,B,B,B,A,A,A,A,B,B,A,B,A,B,B,A,B,B,B,B,B,B,B,B,B,B,A,B,A,A,B,B,B,A,B,B,A,A,B,B,B,A,nan,B,B,B,A,A,A,A,A,B,B,B,B,A,A,B,B,A,B,A,B,A,B,A,B,B,B,B,A,A,B,B,B,B,B,B,A,B,B,nan,B,B,B,A,A,A,A,B,B,A,B,B,B,A,B,B,B,A,A,B,B,B,A,B,B,B,B,B,A,B,B,A,nan,A,A,B,B,B,B,B,A,A,B,B,B,B,B,B,B,B,B,B,B,B,B,B,B,B,B,B,B,B,B,B,nan,nan,B,B,B,B,B,B,B,B,B,B,A,A,B,B,B,B,A,B,A,B,B,B,B,B,B,B,B,A,A,nan,nan,B,B,B,B,A,B,A,A,B,A,B,B,B,B,B,A,A,A,B,A,A,B,B,B,A,B,B,B,B,A,B,B,B,B,A,B,B,B,B,A,B,B,nan,B,B,B,A,B,B,B,A,A,B,B,B,B,B,A,A,A,A,A,B,B,B,A,A,B,nan,B,A,B,B,A,A,A,A,A,A,B,B,B,A,A,A,A,B,B,A,A,A,A,B,B,B,A,A,B,nan,nan,A,A,B,B,B,B,A,B,A,B,A,B,B,B,A,A,B,B,B,A,A,B,A,A,A,A,A,A,B,B,A,B,A,B,A,A,B,B,nan,nan,B,B,B,B,B,B,A,A,A,A,A,A,A,B,B,B,B,B,B,A,B,B,B,B,B,B,B,B,B,B,B,nan,nan,nan,A,A,A,B,B,B,B,B,B,A,B,B,B,B,B,B,A,nan,B,B,nan,nan,B,B,B,B,B,B,B,B,B,B,B,B,B,B,B,B,B,A,B,B,B,B,B,B,A,A,nan,nan,nan,nan,B,A,A,A,A,A,B,A,A,A,A,A,B,B,A,A,A,A,A,A,A,A,A,A,B,B,A,A,A,A,A,A,A,A,A,A,A,A,A,A,A,A,A,A,A,A,nan,A,A,A,A,A,A,A,A,A,A,A,B,B,B,B,B,B,B,B,B,B,B,B,B,B,B,B,B,B,B,B'\n",
    "AB=np.array(AB.split(','))\n",
    "lens = [76, 80, 66, 63, 60, 55, 53, 48, 40, 43, 44, 44, 33, 30, 31, 30, 33, 33, 33, 33, 31, 31, 51]\n",
    "edges = np.cumsum([0]+lens)\n",
    "A,B = AB=='A',AB=='B'\n",
    "\n",
    "\n",
    "xmin,xmax,nbins=0.5,1,23\n",
    "\n",
    "\n",
    "fig = plt.figure()\n",
    "dif = ABratio[A]\n",
    "dif = dif[(~np.isnan(dif))&(~np.isinf(dif))]\n",
    "ct1=plt.hist(dif,bins=np.linspace(xmin,xmax,nbins),normed=True,color='r',alpha=0.75)\n",
    "print('A',np.nanmedian(dif))\n",
    "\n",
    "\n",
    "dif = ABratio[B]\n",
    "dif = dif[(~np.isnan(dif))&(~np.isinf(dif))]\n",
    "print('B',np.nanmedian(dif))\n",
    "ct2=plt.hist(dif,bins=np.linspace(xmin,xmax,nbins),normed=True,color='b',alpha=0.75)\n",
    "\n",
    "\n",
    "dif = ABratio_rnd#[A]\n",
    "dif = dif[(~np.isnan(dif))&(~np.isinf(dif))]\n",
    "dif_rnd=dif.copy()\n",
    "ct1=plt.hist(dif,bins=np.linspace(xmin,xmax,nbins),normed=True,color='k',alpha=0.75)\n",
    "print('Rnd',np.nanmedian(dif))\n",
    "xvals=[0.5,0.75,1]\n",
    "plt.xticks(xvals,xvals)\n",
    "yvals = np.array([0,0.10,0.20])\n",
    "plt.yticks(np.array(yvals)*np.sum(ct2[0]),(yvals*100).astype(int))\n",
    "plt.xlabel(\"Median A/B density ratio\")\n",
    "plt.ylabel(\"% of loci\")\n",
    "plt.ylim([0,np.max(np.array(yvals)*np.sum(ct2[0]))])"
   ]
  },
  {
   "cell_type": "code",
   "execution_count": null,
   "metadata": {},
   "outputs": [],
   "source": []
  }
 ],
 "metadata": {
  "kernelspec": {
   "display_name": "Python 3",
   "language": "python",
   "name": "python3"
  },
  "language_info": {
   "codemirror_mode": {
    "name": "ipython",
    "version": 3
   },
   "file_extension": ".py",
   "mimetype": "text/x-python",
   "name": "python",
   "nbconvert_exporter": "python",
   "pygments_lexer": "ipython3",
   "version": "3.7.4"
  }
 },
 "nbformat": 4,
 "nbformat_minor": 2
}
