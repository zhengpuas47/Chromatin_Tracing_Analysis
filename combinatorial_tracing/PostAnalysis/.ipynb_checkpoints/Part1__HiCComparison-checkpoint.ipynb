{
 "cells": [
  {
   "cell_type": "markdown",
   "metadata": {},
   "source": [
    "__Author__: Bogdan Bintu\n",
    "\n",
    "__Email__: bbintu@g.harvard.edu\n",
    "\n",
    "__Date__:3/4/2020\n",
    "\n",
    "__Platform__: Python 2.7"
   ]
  },
  {
   "cell_type": "code",
   "execution_count": 4,
   "metadata": {},
   "outputs": [],
   "source": [
    "import matplotlib\n",
    "matplotlib.rcParams['pdf.fonttype'] = 42\n",
    "matplotlib.rcParams['font.size']=15\n",
    "matplotlib.rcParams['font.family']='Arial'\n",
    "\n",
    "import numpy as np\n",
    "import os"
   ]
  },
  {
   "cell_type": "markdown",
   "metadata": {},
   "source": [
    "#### Import corresponding Hi-C data"
   ]
  },
  {
   "cell_type": "code",
   "execution_count": null,
   "metadata": {},
   "outputs": [],
   "source": [
    "import cPickle as pickle\n",
    "#This data has been downloaded from Rao et al. Cell 2014\n",
    "hic_fl = r'Data/HiC/si14_500kb_centered_rawReads.pkl'\n",
    "hic = pickle.load(open(hic_fl,'rb'))"
   ]
  },
  {
   "cell_type": "markdown",
   "metadata": {},
   "source": [
    "#### Import positions of chromatin loci imaged"
   ]
  },
  {
   "cell_type": "code",
   "execution_count": 5,
   "metadata": {},
   "outputs": [],
   "source": [
    "folder = r'\\Data'\n",
    "\n",
    "fid = open(folder+os.sep+r'genomic-scale.tsv','r')\n",
    "lines = np.array([ln[:-1].split('\\t')for ln in fid if len(ln)>0])\n",
    "zxy = np.array(lines[1:,:3][:],dtype=np.float)\n",
    "fid = open(folder+os.sep+r'genomic-scale-with transcription and nuclear bodies.tsv','r')\n",
    "lines = np.array([ln[:-1].split('\\t')for ln in fid if len(ln)>0])\n",
    "zxy = np.concatenate([zxy,np.array(lines[1:,:3][:],dtype=np.float)])\n",
    "zxy = zxy.reshape([-1,2082,3])/1000 #transform to um"
   ]
  },
  {
   "cell_type": "markdown",
   "metadata": {},
   "source": [
    "#### Calculate distance matrices and contact matrices both cis and trans"
   ]
  },
  {
   "cell_type": "code",
   "execution_count": null,
   "metadata": {},
   "outputs": [],
   "source": [
    "import cPickle as pickle\n",
    "import matplotlib.pylab as plt\n",
    "import numpy as np\n",
    "from scipy.spatial.distance import pdist,cdist,squareform\n",
    "from tqdm import tqdm_notebook as tqdm"
   ]
  },
  {
   "cell_type": "code",
   "execution_count": null,
   "metadata": {},
   "outputs": [],
   "source": [
    "lens = [76, 80, 66, 63, 60, 55, 53, 48, 40, 43, 44, 44, 33, 30, 31, 30, 33, 33, 33, 33, 31, 31, 51]\n",
    "ijs = []\n",
    "for i in range(len(lens)):\n",
    "    for j in range(len(lens)):\n",
    "        ijs.append((i,j))\n",
    "im_med = np.zeros([edges[-1],edges[-1]])\n",
    "cut_offs = [0.25,0.5,0.75,1]\n",
    "im_fr = np.zeros([edges[-1],edges[-1],len(cut_offs)])\n",
    "im_med_trans = []\n",
    "im_med_cis = []\n",
    "im_fr_trans = [[] for _ in cut_offs]\n",
    "im_fr_cis = [[] for _ in cut_offs]\n",
    "\n",
    "i,j = ijs[1]\n",
    "for i,j in tqdm(ijs):\n",
    "    arr = []\n",
    "    for st1 in [0,edges[-1]]:\n",
    "        for st2 in [0,edges[-1]]:\n",
    "            zxy1 = zxy[:,st1+edges[i]:st1+edges[i+1]]\n",
    "            zxy2 = zxy[:,st2+edges[j]:st2+edges[j+1]]\n",
    "            arr =arr+[cdist(zxy1[k],zxy2[k]) for k in range(len(zxy1))]\n",
    "    arr = np.array(arr)\n",
    "    im_med[edges[i]:edges[i+1],edges[j]:edges[j+1]]=np.nanmedian(arr,axis=0)\n",
    "    if i==j:\n",
    "        im_med_cis.append(np.nanmedian(arr[::2],axis=0))\n",
    "        im_med_trans.append(np.nanmedian(arr[1::2],axis=0))\n",
    "    for ic,cutoff in enumerate(cut_offs):\n",
    "        im_fr[edges[i]:edges[i+1],edges[j]:edges[j+1],ic] = 1.*np.sum(arr<cutoff,0)/np.sum(arr>-1,0)\n",
    "        if i==j:\n",
    "            im_fr_trans[ic].append(1.*np.sum(arr[1::2]<cutoff,0)/np.sum(arr[1::2]>-1,0))\n",
    "            im_fr_cis[ic].append(1.*np.sum(arr[::2]<cutoff,0)/np.sum(arr[::2]>-1,0))\n",
    "pickle.dump([im_med,im_fr,im_med_trans,im_med_cis,im_fr_trans,im_fr_cis,len(zxy)],\n",
    "        open(r'mat_contact_IMR90_untreated.pkl','wb'))"
   ]
  },
  {
   "cell_type": "markdown",
   "metadata": {},
   "source": [
    "#### Calculate cis cross-correlation with HiC"
   ]
  },
  {
   "cell_type": "code",
   "execution_count": 14,
   "metadata": {},
   "outputs": [
    {
     "name": "stderr",
     "output_type": "stream",
     "text": [
      "C:\\Users\\Bogdan\\Anaconda3\\envs\\py2\\lib\\site-packages\\ipykernel_launcher.py:4: RuntimeWarning: divide by zero encountered in log\n",
      "  after removing the cwd from sys.path.\n"
     ]
    }
   ],
   "source": [
    "#number of regions per chormosome\n",
    "lens = [76, 80, 66, 63, 60, 55, 53, 48, 40, 43, 44, 44, 33, 30, 31, 30, 33, 33, 33, 33, 31, 31, 51]\n",
    "edges = np.cumsum([0]+lens)"
   ]
  },
  {
   "cell_type": "code",
   "execution_count": null,
   "metadata": {},
   "outputs": [],
   "source": [
    "xhic = []\n",
    "ymed = []\n",
    "yfr = []\n",
    "for ichr in range(len(edges)-1):\n",
    "    xhic.extend(hic[edges[ichr]:edges[ichr+1],edges[ichr]:edges[ichr+1]].ravel())\n",
    "    ymed.extend(im_med_cis[ichr].ravel())\n",
    "    im_ = im_fr_cis[1][ichr].copy()\n",
    "    im_[np.arange(len(im_)),np.arange(len(im_))]=np.nan\n",
    "    yfr.extend(im_.ravel())"
   ]
  },
  {
   "cell_type": "code",
   "execution_count": null,
   "metadata": {},
   "outputs": [],
   "source": [
    "fig,ax = plt.subplots()\n",
    "def nan_corr_coef(x_,y_):\n",
    "    x=np.ravel(x_)\n",
    "    y=np.ravel(y_)\n",
    "    keep=(np.isinf(x)==False)&(np.isinf(y)==False)&(np.isnan(x)==False)&(np.isnan(y)==False)\n",
    "    x=x[keep]\n",
    "    y=y[keep]\n",
    "    return np.corrcoef([x,y])[0,1]\n",
    "rho = nan_corr_coef(xhic,yfr)\n",
    "plt.loglog(xhic,yfr,'o',color='k',markersize=25,markeredgecolor='k',label='p='+str(np.round(rho,2)),alpha=0.005);\n",
    "ax.spines['top'].set_visible(False)\n",
    "ax.spines['right'].set_visible(False)\n",
    "ax.get_xaxis().tick_bottom()\n",
    "ax.get_yaxis().tick_left()\n",
    "ax.set_xlabel('Contact frequency')\n",
    "ax.set_ylabel('Hi-C number of contacts')\n",
    "#plt.axis('equal')\n",
    "#plt.legend()\n",
    "#plt.xlim([1,5*10**4])\n",
    "#plt.ylim([0.1*10**(-2),0.5*10**(0)])"
   ]
  },
  {
   "cell_type": "code",
   "execution_count": null,
   "metadata": {},
   "outputs": [],
   "source": []
  }
 ],
 "metadata": {
  "kernelspec": {
   "display_name": "Python 3",
   "language": "python",
   "name": "python3"
  },
  "language_info": {
   "codemirror_mode": {
    "name": "ipython",
    "version": 3
   },
   "file_extension": ".py",
   "mimetype": "text/x-python",
   "name": "python",
   "nbconvert_exporter": "python",
   "pygments_lexer": "ipython3",
   "version": "3.7.4"
  }
 },
 "nbformat": 4,
 "nbformat_minor": 2
}
