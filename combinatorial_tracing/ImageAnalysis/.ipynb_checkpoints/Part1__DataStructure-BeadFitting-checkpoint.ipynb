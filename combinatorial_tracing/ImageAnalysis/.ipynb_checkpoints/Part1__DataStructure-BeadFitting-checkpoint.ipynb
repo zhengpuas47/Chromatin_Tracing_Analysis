{
 "cells": [
  {
   "cell_type": "markdown",
   "metadata": {},
   "source": [
    "__Author:__ Bogdan Bintu\n",
    "\n",
    "__Email:__ bbintu@g.harvard.edu\n",
    "\n",
    "__Date:__ 3/4/2020\n",
    "\n"
   ]
  },
  {
   "cell_type": "markdown",
   "metadata": {},
   "source": [
    "#### Note: This assumes Python 2"
   ]
  },
  {
   "cell_type": "code",
   "execution_count": 1,
   "metadata": {},
   "outputs": [],
   "source": [
    "# Imports\n",
    "import numpy as np\n",
    "import glob,os,sys\n",
    "import matplotlib.pylab as plt\n",
    "\n",
    "import workers #worker package to parallelize\n",
    "\n",
    "#Warning: Installing ipyparallel is recomended"
   ]
  },
  {
   "cell_type": "code",
   "execution_count": 6,
   "metadata": {},
   "outputs": [],
   "source": [
    "######### Get the info for the current project\n",
    "master_folder=r'master_DNA_folder'\n",
    "hfolders = [folder for folder in glob.glob(master_folder+os.sep+'*')\n",
    "           if os.path.isdir(folder) and glob.glob(folder+os.sep+'*.dax')>0 and os.path.basename(folder)[0]!='F']\n",
    "hinds = [workers.getH(hfolder) for hfolder in hfolders]\n",
    "hfolders = np.array(hfolders)[np.argsort(hinds)]\n",
    "fovs = map(os.path.basename,glob.glob(hfolders[0]+os.sep+'*.dax'))\n",
    "analysis_folder = master_folder+'-Analysis'\n",
    "if not os.path.exists(analysis_folder): os.makedirs(analysis_folder)"
   ]
  },
  {
   "cell_type": "code",
   "execution_count": 9,
   "metadata": {},
   "outputs": [
    {
     "name": "stdout",
     "output_type": "stream",
     "text": [
      "\\\\dolly\\Raw_data\\Bogdan\\8_26_2019__IMR90_6hAmanitin_STORM65\\H112B,R3,R5\n"
     ]
    }
   ],
   "source": [
    "######### compute the median value across all fields of view - this helps flatten the illumination\n",
    "num_cols,remove_first = 4,0\n",
    "hfolder = hfolders[10]\n",
    "print hfolder\n",
    "meds_fl = analysis_folder+os.sep+'im_meds.npy'\n",
    "if not os.path.exists(meds_fl):\n",
    "    im_meds = [np.mean([workers.get_frame(hfolder+os.sep+fov,ind_z=ind_col+remove_first) for fov in fovs],axis=0) \n",
    "               for ind_col in range(num_cols)]\n",
    "    np.save(meds_fl,np.array(im_meds,dtype=np.float32))"
   ]
  },
  {
   "cell_type": "code",
   "execution_count": null,
   "metadata": {},
   "outputs": [],
   "source": [
    "#### check illumination profile\n",
    "im_med = np.load(meds_fl)\n",
    "plt.figure(figsize=(5,5))\n",
    "im = im_med[3]\n",
    "plt.imshow(im,vmax=np.percentile(im,95)*1.2)\n",
    "plt.colorbar()"
   ]
  },
  {
   "cell_type": "markdown",
   "metadata": {},
   "source": [
    "### Organize the paramaters across all the field of views and conditions"
   ]
  },
  {
   "cell_type": "code",
   "execution_count": null,
   "metadata": {},
   "outputs": [],
   "source": [
    "\n",
    "def ref_fl(dax_fl,ref_tags = ['H20B,B','H20B,B']):\n",
    "    htag = os.path.basename(os.path.dirname(dax_fl))\n",
    "    fov = os.path.basename(dax_fl)\n",
    "    ref_tag = ref_tags[-1] if 'Q' in htag else ref_tags[0]\n",
    "    ref_hfolder = [hfolder for hfolder in hfolders if ref_tag in os.path.basename(hfolder)][0]\n",
    "    dax_fl_ref = ref_hfolder+os.sep+fov\n",
    "    return dax_fl_ref\n",
    "paramaters = []\n",
    "overwrite_fits,overwrite_drift=False,False\n",
    "for fovind in range(len(fovs)):\n",
    "    for hind in range(len(hfolders)):\n",
    "        htag = os.path.basename(hfolders[hind])\n",
    "        dax_fl = hfolders[hind]+os.sep+fovs[fovind]\n",
    "        ref_dax_fl = ref_fl(dax_fl)\n",
    "        paramaters.append((dax_fl,ref_dax_fl,overwrite_fits,overwrite_drift))\n",
    "print len(paramaters)"
   ]
  },
  {
   "cell_type": "markdown",
   "metadata": {},
   "source": [
    "### Run across all data in paralell"
   ]
  },
  {
   "cell_type": "code",
   "execution_count": 24,
   "metadata": {},
   "outputs": [],
   "source": [
    "#Run the workers in parallel to perform rough registration and fit the beads in the data.\n",
    "# while workers can also perform rough (yet fast) fitting of the signal data, \n",
    "#this is mostly used for testing as the gaussian fitting is more precise\n",
    "#Add path to the system to be able to import \n",
    "\n",
    "#Open terminal and run: ipcluster start -n 20\n",
    "import ipyparallel as ipp\n",
    "from ipyparallel import Client\n",
    "rc = Client()\n",
    "import workers\n",
    "reload(workers)\n",
    "def f(parm):\n",
    "    import sys\n",
    "    sys.path.append(r'E:\\Bogdan\\Dropbox\\code_Seurat\\WholeGenome_MERFISH\\Analysis_code') ### Update with analysis folder full path\n",
    "    import workers\n",
    "    reload(workers)\n",
    "    \n",
    "    success = workers.run_fitting_analysis(parm,remove_first=0,im_pad=0,fit_colors=False)\n",
    "    return success"
   ]
  },
  {
   "cell_type": "code",
   "execution_count": null,
   "metadata": {},
   "outputs": [],
   "source": [
    "res = rc[:].map_sync(f,paramaters[:])"
   ]
  },
  {
   "cell_type": "markdown",
   "metadata": {},
   "source": [
    "### Example of single run output "
   ]
  },
  {
   "cell_type": "code",
   "execution_count": null,
   "metadata": {},
   "outputs": [],
   "source": [
    "f(paramaters[3000])"
   ]
  },
  {
   "cell_type": "code",
   "execution_count": null,
   "metadata": {},
   "outputs": [],
   "source": []
  }
 ],
 "metadata": {
  "kernelspec": {
   "display_name": "Python 3",
   "language": "python",
   "name": "python3"
  },
  "language_info": {
   "codemirror_mode": {
    "name": "ipython",
    "version": 3
   },
   "file_extension": ".py",
   "mimetype": "text/x-python",
   "name": "python",
   "nbconvert_exporter": "python",
   "pygments_lexer": "ipython3",
   "version": "3.7.4"
  }
 },
 "nbformat": 4,
 "nbformat_minor": 2
}
