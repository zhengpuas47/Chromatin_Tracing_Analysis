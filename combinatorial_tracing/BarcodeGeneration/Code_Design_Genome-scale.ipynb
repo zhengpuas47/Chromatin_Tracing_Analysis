{
 "cells": [
  {
   "cell_type": "markdown",
   "metadata": {},
   "source": [
    "**Author**: Seon Kinrot\n",
    "\n",
    "**Email**: skinrot@g.harvard.edu\n",
    "\n",
    "**Date**: 3/4/2020"
   ]
  },
  {
   "cell_type": "code",
   "execution_count": null,
   "metadata": {},
   "outputs": [],
   "source": [
    "#Dependencies\n",
    "import numpy as np\n",
    "import cPickle as pkl\n",
    "import os\n",
    "import codeDesigner as cd"
   ]
  },
  {
   "cell_type": "markdown",
   "metadata": {},
   "source": [
    "# Choose genomic locations with equal spacing on each chromosome"
   ]
  },
  {
   "cell_type": "code",
   "execution_count": null,
   "metadata": {},
   "outputs": [],
   "source": [
    "min_chr=30 #minimal number of loci to be chosen on a chromosome\n",
    "target_res = 3*10**6 #default target distance between chosen loci\n",
    "\n",
    "chosen_by_chr = [],[] #chosen loci genome-wide, by chromosome\n",
    "home_ = '/n/home02/seonkinrot/Genomes/human/hg38' #folder containing fasta files for the entire human genome\n",
    "shift = 5*10**4 #size of region in each direction required to be mappable\n",
    "\n",
    "for chr_ in range(23):\n",
    "    chr_text = 'chr'+str(chr_+1) if chr_<22 else 'chrX'\n",
    "    _,seq = cd.fastaread(home_+os.sep+chr_text+'.fa')\n",
    "    seq = seq[0]\n",
    "    chr_len = len(seq)\n",
    "    target_dist = np.min([float(chr_len)/min_chr,target_res])\n",
    "    chr_chosen_ = []\n",
    "    while len(chr_chosen_)<min_chr:\n",
    "        chr_chosen__ = np.arange(target_dist,chr_len,target_dist,dtype=int) #uniform probes\n",
    "        chr_chosen__ = [c_ for c_ in chr_chosen__ if ((c_+shift<chr_len) and (c_>shift))]\n",
    "        chr_chosen_ = [chosen_ for chosen_ in chr_chosen__ if seq[chosen_]!='N' and seq[chosen_]!='n']\n",
    "        chr_chosen_ = [chosen_ for chosen_ in chr_chosen_ if seq[chosen_+shift]!='N' and seq[chosen_+shift]!='n']\n",
    "        chr_chosen_ = [chosen_ for chosen_ in chr_chosen_ if seq[chosen_-shift]!='N' and seq[chosen_-shift]!='n']\n",
    "        target_dist = target_dist*0.9\n",
    "    chosen_by_chr.append(chr_chosen_)\n",
    "n_per_chr = [len(ch_) for ch_ in chosen_by_chr]\n",
    "print n_per_chr"
   ]
  },
  {
   "cell_type": "code",
   "execution_count": null,
   "metadata": {},
   "outputs": [],
   "source": [
    "save_fld = '/n/home02/seonkinrot/TAD_sim/SI14'\n",
    "fid = open(save_fld+os.sep+'hg38_chosen_regs.txt','w')\n",
    "for ichr_,chr_ in enumerate(chosen_by_chr):\n",
    "    chr_str = 'chr'+str(ichr_+1) if ichr_<22 else 'chrX'\n",
    "    for reg_ in chr_:\n",
    "        ln = chr_str+':'+str(int(reg_-shift))+'-'+str(int(reg_+shift))+'\\n'\n",
    "        fid.write(ln)\n",
    "fid.close()"
   ]
  },
  {
   "cell_type": "markdown",
   "metadata": {},
   "source": [
    "Load list of loci used in this study"
   ]
  },
  {
   "cell_type": "code",
   "execution_count": null,
   "metadata": {},
   "outputs": [],
   "source": [
    "chrs_regs = [ln for ln in open(r'hg38_chosen_regs.txt','r')] #loci chosen for each chromosome in actual study\n",
    "chr_strs = ['chr'+str(ichr_+1) if ichr_<22 else 'chrX' for ichr_ in range(23)]\n",
    "chosen_by_chr = []\n",
    "for chr_ in chr_strs:\n",
    "    c_regs = [reg for reg in chrs_regs if reg.split(':')[0]==chr_] #loci for given chromosome\n",
    "    chr_chosen_ = map(np.mean,[map(int,reg.split(':')[1].split('-')) for reg in c_regs]) #mid-point of each locus\n",
    "    chosen_by_chr.append(chr_chosen_)\n",
    "n_per_chr = [len(ch_) for ch_ in chosen_by_chr]\n",
    "print n_per_chr"
   ]
  },
  {
   "cell_type": "markdown",
   "metadata": {},
   "source": [
    "# Generate barcodes per locus"
   ]
  },
  {
   "cell_type": "code",
   "execution_count": null,
   "metadata": {},
   "outputs": [],
   "source": [
    "nhb = 50 #number of rounds of imaging (including separate colors) to design\n",
    "buf_ = 100\n",
    "split_ = True #if true, the code design is for double the number of rounds in nhb, but can be pooled to halve imaging time\n",
    "\n",
    "#this is what was used in this study, but code generation can be done directly for 100 bits by setting: \n",
    "# nhb=100, split_=False\n",
    "\n",
    "hybes,tads_assign = cd.code_encoder_v2(nTADs=n_per_chr,refine_chr=500000,refine_TAD=250000,nchr=23,nhybes=nhb,buffer_=buf_)\n",
    "new_code, new_hybes, new_tads_assign = cd.split_code(code,hybes) #new_code corresponds to the sparser code\n",
    "\n",
    "sv_params = [n_per_chr]\n",
    "sv_params.append([code,hybes,tads_assign])\n",
    "sv_params.append([new_code,new_hybes,new_tads_assign])"
   ]
  },
  {
   "cell_type": "markdown",
   "metadata": {},
   "source": [
    "Barcodes for intron probes were generated analogously, but without the code splitting step"
   ]
  },
  {
   "cell_type": "markdown",
   "metadata": {},
   "source": [
    "FISH probes for each DNA locus were desgined as described in Bintu et al., Science (2018). Code for probe design can be found at https://github.com/BogdanBintu/ChromatinImaging, under LibraryDesign"
   ]
  }
 ],
 "metadata": {
  "kernelspec": {
   "display_name": "Python 2",
   "language": "python",
   "name": "python2"
  },
  "language_info": {
   "codemirror_mode": {
    "name": "ipython",
    "version": 2
   },
   "file_extension": ".py",
   "mimetype": "text/x-python",
   "name": "python",
   "nbconvert_exporter": "python",
   "pygments_lexer": "ipython2",
   "version": "2.7.16"
  }
 },
 "nbformat": 4,
 "nbformat_minor": 2
}
