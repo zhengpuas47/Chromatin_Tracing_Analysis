{
 "cells": [
  {
   "cell_type": "code",
   "execution_count": 5,
   "metadata": {
    "ExecuteTime": {
     "end_time": "2019-04-15T21:10:50.473118Z",
     "start_time": "2019-04-15T21:10:32.070411Z"
    }
   },
   "outputs": [
    {
     "name": "stdout",
     "output_type": "stream",
     "text": [
      "16676\n"
     ]
    }
   ],
   "source": [
    "%run \"..\\source\\required_files\\Startup_py3.py\"\n",
    "sys.path.append(r\"..\")\n",
    "\n",
    "import source as ia\n",
    "%matplotlib notebook\n",
    "\n",
    "from ImageAnalysis3 import *\n",
    "print(os.getpid())"
   ]
  },
  {
   "cell_type": "markdown",
   "metadata": {},
   "source": [
    "# 0. Initialize Cell_List class"
   ]
  },
  {
   "cell_type": "code",
   "execution_count": 6,
   "metadata": {
    "ExecuteTime": {
     "end_time": "2019-04-15T21:10:55.263686Z",
     "start_time": "2019-04-15T21:10:54.488107Z"
    }
   },
   "outputs": [
    {
     "name": "stdout",
     "output_type": "stream",
     "text": [
      "Get Folder Names: (ia.get_img_info.get_folders)\n",
      "- Number of folders: 103\n",
      "- Number of field of views: 85\n",
      "- Importing csv file: V:\\20200113_CTP04_chr21_IMR90_hexanediol\\Analysis\\Color_Usage.csv\n",
      "- header: ['Hyb', '750', '647', '561', '488', '405']\n",
      "-- Hyb H0R0 exists in this data\n",
      "-- DAPI exists in hyb: H0R0\n",
      "- Importing csv file: V:\\20200113_CTP04_chr21_IMR90_hexanediol\\Analysis\\Region_Positions.csv\n",
      "- header: ['region', 'chr', 'start', 'end', 'midpoint']\n",
      "-- 651 genomic regions loaded!\n",
      "97 folders are found according to color-usage annotation.\n"
     ]
    }
   ],
   "source": [
    "# initialize cell-list parameter dict\n",
    "param = {'data_folder':r'Y:\\20190305_IMR90_CTP05_DNA-FISH',\n",
    "         'save_folder':r'D:\\Pu_Temp\\IMR90_WT',\n",
    "         'experiment_type': 'DNA',\n",
    "         'num_threads': 16,\n",
    "         'correction_folder':r'D:\\Corrections\\Corrections_201906', # which is used to correct bleedthrough/chromatic abbrevation\n",
    "         };\n",
    "\n",
    "# create cell_list object\n",
    "lst = ia.classes.Cell_List(param, _chosen_fovs=[], _exclude_fovs=[], )\n",
    "# change some global settings according to the microscope I used\n",
    "lst.shared_parameters['num_empty_frames'] = 0\n",
    "lst.shared_parameters['single_im_size'] = [50, 2048, 2048]\n",
    "lst.shared_parameters['corr_Z_shift'] = False"
   ]
  },
  {
   "cell_type": "markdown",
   "metadata": {
    "heading_collapsed": true
   },
   "source": [
    "# 1. Segmentation for all (only for the very first time)"
   ]
  },
  {
   "cell_type": "markdown",
   "metadata": {
    "heading_collapsed": true,
    "hidden": true
   },
   "source": [
    "## generate cell_segmentations and manually correct"
   ]
  },
  {
   "cell_type": "code",
   "execution_count": null,
   "metadata": {
    "ExecuteTime": {
     "end_time": "2019-03-06T03:15:42.910795Z",
     "start_time": "2019-03-05T23:46:49.845559Z"
    },
    "hidden": true,
    "scrolled": true
   },
   "outputs": [],
   "source": [
    "%matplotlib notebook\n",
    "%matplotlib notebook\n",
    "\n",
    "lst._pick_cell_segmentations(_min_shape_ratio=0.02, _shrink_percent=12, \n",
    "                             _save=True, _overwrite=False)"
   ]
  },
  {
   "cell_type": "code",
   "execution_count": null,
   "metadata": {
    "ExecuteTime": {
     "end_time": "2019-03-07T17:50:12.144411Z",
     "start_time": "2019-03-07T17:48:20.586266Z"
    },
    "hidden": true,
    "scrolled": true
   },
   "outputs": [],
   "source": [
    "# run this to save updated nucleus status\n",
    "%matplotlib inline\n",
    "new_labels, remove_cts, append_cts = lst._update_cell_segmentations(_return_all=True, \n",
    "                                                                    _overwrite_segmentation=False, \n",
    "                                                                    _append_radius=90)"
   ]
  },
  {
   "cell_type": "code",
   "execution_count": 11,
   "metadata": {},
   "outputs": [],
   "source": [
    "plt.close('all')"
   ]
  },
  {
   "cell_type": "markdown",
   "metadata": {
    "heading_collapsed": true,
    "hidden": true
   },
   "source": [
    "## another option: translate from segmentation generated in RNA"
   ]
  },
  {
   "cell_type": "code",
   "execution_count": null,
   "metadata": {
    "ExecuteTime": {
     "end_time": "2019-03-09T03:25:21.882075Z",
     "start_time": "2019-03-09T03:25:21.865062Z"
    },
    "hidden": true
   },
   "outputs": [],
   "source": [
    "# generate rotation matrix\n",
    "experiment_folder = r'Y:\\20190302_IMR90_CTP05_intronFISH\\Experiment'\n",
    "pos_file_before = os.path.join(experiment_folder, 'positions_10x_before.txt')    \n",
    "pos_file_after = os.path.join(experiment_folder, 'positions_10x_after.txt')    \n",
    "R,t = alignment_tools.align_manual_points(pos_file_before, pos_file_after)"
   ]
  },
  {
   "cell_type": "code",
   "execution_count": null,
   "metadata": {
    "ExecuteTime": {
     "end_time": "2019-03-10T21:28:05.694039Z",
     "start_time": "2019-03-10T21:19:10.675288Z"
    },
    "hidden": true,
    "scrolled": true
   },
   "outputs": [],
   "source": [
    "# apply rotation and translation according to DAPI image alignments between DNA and RNA experiments\n",
    "old_seg_folder = r'Y:\\20190302_IMR90_CTP05_intronFISH\\Analysis\\segmentation'\n",
    "old_dapi_folder = r'Y:\\20190302_IMR90_CTP05_intronFISH\\H0R0'\n",
    "old_correction_folder = r'I:\\Corrections'\n",
    "new_correction_folder = r'I:\\Corrections'\n",
    "# load previously generated rotation matrix \n",
    "experiment_folder = r'Y:\\20190302_IMR90_CTP05_intronFISH\\Experiment'\n",
    "rotation_mat = np.load(os.path.join(experiment_folder, 'rotation.npy'))\n",
    "# translate segmentations!\n",
    "new_seg_labels = lst._translate_old_segmentations(old_seg_folder, old_dapi_folder, rotation_mat,_force=True, \n",
    "                                                  _old_correction_folder=old_correction_folder,_return_all=True,\n",
    "                                                  )"
   ]
  },
  {
   "cell_type": "markdown",
   "metadata": {
    "ExecuteTime": {
     "start_time": "2019-01-22T15:42:24.597Z"
    }
   },
   "source": [
    "# 2. Create cell objects"
   ]
  },
  {
   "cell_type": "code",
   "execution_count": null,
   "metadata": {
    "ExecuteTime": {
     "end_time": "2019-04-15T21:11:21.409162Z",
     "start_time": "2019-04-15T21:10:58.102801Z"
    },
    "scrolled": true
   },
   "outputs": [],
   "source": [
    "%matplotlib inline\n",
    "\n",
    "fov_ids =  np.arange(1,70)\n",
    "\n",
    "lst._create_cells_fov(fov_ids, _drift_size=650, _coord_sel=[1000,1000], _load_segmentation=False,\n",
    "                      _load_exist_info=True, _save=False,\n",
    "                      _exclude_attrs=['segmentation_label'])"
   ]
  },
  {
   "cell_type": "markdown",
   "metadata": {
    "heading_collapsed": true
   },
   "source": [
    "# 3. Crop unique images for each cell"
   ]
  },
  {
   "cell_type": "code",
   "execution_count": null,
   "metadata": {
    "ExecuteTime": {
     "end_time": "2019-03-26T12:42:51.047449Z",
     "start_time": "2019-03-25T18:52:03.913368Z"
    },
    "hidden": true,
    "scrolled": true
   },
   "outputs": [],
   "source": [
    "# crop from original images\n",
    "lst._crop_image_for_cells('unique', _load_in_ram=False,\n",
    "                          _overwrite_cell_info=True, _force=False, _save=True)"
   ]
  },
  {
   "cell_type": "markdown",
   "metadata": {
    "heading_collapsed": true
   },
   "source": [
    "# 4. Pick chromosomes"
   ]
  },
  {
   "cell_type": "markdown",
   "metadata": {
    "hidden": true
   },
   "source": [
    "## automatically generate chromosomes and manually adjust"
   ]
  },
  {
   "cell_type": "code",
   "execution_count": null,
   "metadata": {
    "ExecuteTime": {
     "end_time": "2019-03-26T15:39:34.978548Z",
     "start_time": "2019-03-26T15:39:31.268807Z"
    },
    "hidden": true,
    "scrolled": false
   },
   "outputs": [],
   "source": [
    "# pick\n",
    "%matplotlib notebook\n",
    "%matplotlib notebook\n",
    "lst._get_chromosomes_for_cells('unique',_max_count=90, _overwrite=False)"
   ]
  },
  {
   "cell_type": "markdown",
   "metadata": {
    "hidden": true
   },
   "source": [
    "## update manually picked chromosomes"
   ]
  },
  {
   "cell_type": "code",
   "execution_count": null,
   "metadata": {
    "ExecuteTime": {
     "end_time": "2019-03-26T15:40:22.074650Z",
     "start_time": "2019-03-26T15:40:13.740438Z"
    },
    "hidden": true,
    "scrolled": true
   },
   "outputs": [],
   "source": [
    "# update\n",
    "reload(visual_tools)\n",
    "lst._update_chromosomes_for_cells()"
   ]
  },
  {
   "cell_type": "markdown",
   "metadata": {
    "heading_collapsed": true,
    "hidden": true
   },
   "source": [
    "# 5. Multi-fitting spots"
   ]
  },
  {
   "cell_type": "code",
   "execution_count": null,
   "metadata": {
    "ExecuteTime": {
     "end_time": "2019-03-26T16:07:56.974465Z",
     "start_time": "2019-03-26T15:40:23.695858Z"
    },
    "hidden": true,
    "scrolled": true
   },
   "outputs": [],
   "source": [
    "# multi-fitting\n",
    "lst._spot_finding_for_cells('unique', _max_fitting_threads=16, \n",
    "                            _fit_window=60,\n",
    "                            _overwrite=False, _save=True)"
   ]
  },
  {
   "cell_type": "markdown",
   "metadata": {
    "heading_collapsed": true
   },
   "source": [
    "# 6. Pick spots to acquire region coordinates"
   ]
  },
  {
   "cell_type": "markdown",
   "metadata": {
    "hidden": true
   },
   "source": [
    "## pick spots by EM\n",
    "\n",
    "step 1: analyze 50kb regions spots"
   ]
  },
  {
   "cell_type": "code",
   "execution_count": null,
   "metadata": {},
   "outputs": [],
   "source": [
    "# load required attributes if applies\n",
    "lst._load_cells_from_files('cell_info', _load_attrs=['unique_spots', 'unique_ids', 'chrom_coords'])"
   ]
  },
  {
   "cell_type": "code",
   "execution_count": null,
   "metadata": {},
   "outputs": [],
   "source": [
    "# whether overwrite picked pts\n",
    "_overwrite_picked_pts = True\n",
    "# do EM spot pickiung\n",
    "lst._pick_spots_for_cells('unique', _pick_type='EM', _num_threads=16,\n",
    "                          _intensity_th=1.0,\n",
    "                          _local_size=5, _w_ctdist=3, _w_lcdist=1, _w_int=2, _w_nbdist=1,\n",
    "                          _ignore_ids=False, \n",
    "                          _check_th=-3.5, _check_percentile=5,\n",
    "                          _save_plot=False, _save_to_info=False, \n",
    "                          _overwrite=_overwrite_picked_pts)"
   ]
  },
  {
   "cell_type": "markdown",
   "metadata": {},
   "source": [
    "# 7. Generate population median distance map / contact probability map"
   ]
  },
  {
   "cell_type": "code",
   "execution_count": null,
   "metadata": {},
   "outputs": [],
   "source": [
    "# median distance map\n",
    "%matplotlib inline\n",
    "gaussian_filter_size = 0\n",
    "average_map, all_maps, failure_rate = lst._calculate_population_map('unique', 'EM', _max_loss_prob=0.25,\n",
    "                                                                    _stat_type='median',_gfilt_size=gaussian_filter_size,\n",
    "                                                                    _plot_limits=[0,2000], \n",
    "                                                                    _return_all_maps=True, _verbose=False)"
   ]
  },
  {
   "cell_type": "code",
   "execution_count": null,
   "metadata": {},
   "outputs": [],
   "source": [
    "# contact probability map\n",
    "contact_map, _ = lst._calculate_population_map('unique', 'EM', _max_loss_prob=0.25,\n",
    "                                               _stat_type='contact', _gfilt_size=gaussian_filter_size,\n",
    "                                               _plot_limits=[0.0025,0.25], _verbose=False)"
   ]
  },
  {
   "cell_type": "markdown",
   "metadata": {},
   "source": [
    "# 8. save processed data into single file for further analysis"
   ]
  },
  {
   "cell_type": "code",
   "execution_count": null,
   "metadata": {},
   "outputs": [],
   "source": [
    "# save picked_spots\n",
    "fov_ids, cell_ids, chrom_ids, dna_spots = [], [], [], []\n",
    "for _cell in lst.cells:\n",
    "    if hasattr(_cell, 'EM_picked_unique_spots'):\n",
    "        _sel_spots = getattr(_cell, 'EM_picked_unique_spots')\n",
    "        for _chrom_id, _spots in enumerate(_sel_spots):\n",
    "            fov_ids.append(_cell.fov_id)\n",
    "            cell_ids.append(_cell.cell_id)\n",
    "            chrom_ids.append(_chrom_id)\n",
    "            dna_spots.append(_spots)\n",
    "\n",
    "print(len(fov_ids))\n",
    "\n",
    "save_dic = {'fov_ids':fov_ids,\n",
    "            'cell_ids': cell_ids,\n",
    "            'chrom_ids': chrom_ids,\n",
    "            'dna_spots': dna_spots}\n",
    "pickle.dump(save_dic, open(os.path.join(lst.save_folder, 'IMR90_WT_DNA_spots.pkl'), 'wb'))"
   ]
  }
 ],
 "metadata": {
  "kernelspec": {
   "display_name": "Python 3",
   "language": "python",
   "name": "python3"
  },
  "language_info": {
   "codemirror_mode": {
    "name": "ipython",
    "version": 3
   },
   "file_extension": ".py",
   "mimetype": "text/x-python",
   "name": "python",
   "nbconvert_exporter": "python",
   "pygments_lexer": "ipython3",
   "version": "3.7.3"
  },
  "toc": {
   "base_numbering": 1,
   "nav_menu": {},
   "number_sections": true,
   "sideBar": true,
   "skip_h1_title": false,
   "title_cell": "Table of Contents",
   "title_sidebar": "Contents",
   "toc_cell": false,
   "toc_position": {},
   "toc_section_display": true,
   "toc_window_display": false
  },
  "varInspector": {
   "cols": {
    "lenName": 16,
    "lenType": 16,
    "lenVar": 40
   },
   "kernels_config": {
    "python": {
     "delete_cmd_postfix": "",
     "delete_cmd_prefix": "del ",
     "library": "var_list.py",
     "varRefreshCmd": "print(var_dic_list())"
    },
    "r": {
     "delete_cmd_postfix": ") ",
     "delete_cmd_prefix": "rm(",
     "library": "var_list.r",
     "varRefreshCmd": "cat(var_dic_list()) "
    }
   },
   "types_to_exclude": [
    "module",
    "function",
    "builtin_function_or_method",
    "instance",
    "_Feature"
   ],
   "window_display": false
  }
 },
 "nbformat": 4,
 "nbformat_minor": 2
}
