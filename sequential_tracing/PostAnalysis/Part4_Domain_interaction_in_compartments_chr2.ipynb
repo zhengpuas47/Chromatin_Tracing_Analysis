{
 "cells": [
  {
   "cell_type": "markdown",
   "metadata": {},
   "source": [
    "# This a jupyter notebook guide on domain interaction anaylsis for chr2, in the regime of A,B compartments\n",
    "\n",
    "by Pu Zheng \n",
    "\n",
    "2020.06.06\n"
   ]
  },
  {
   "cell_type": "markdown",
   "metadata": {},
   "source": [
    "## Import packages"
   ]
  },
  {
   "cell_type": "code",
   "execution_count": 1,
   "metadata": {},
   "outputs": [
    {
     "name": "stdout",
     "output_type": "stream",
     "text": [
      "44728\n"
     ]
    }
   ],
   "source": [
    "# imports\n",
    "import sys, os, glob, time, copy\n",
    "import numpy as np\n",
    "import scipy\n",
    "import pickle\n",
    "\n",
    "sys.path.append(os.path.abspath(r\"..\\.\"))\n",
    "\n",
    "import source as ia\n",
    "\n",
    "from scipy.signal import find_peaks\n",
    "from scipy.spatial.distance import cdist,pdist,squareform\n",
    "\n",
    "print(os.getpid()) # print this so u can terminate through cmd / task-manager"
   ]
  },
  {
   "cell_type": "markdown",
   "metadata": {},
   "source": [
    "## Import plotting"
   ]
  },
  {
   "cell_type": "code",
   "execution_count": 2,
   "metadata": {},
   "outputs": [],
   "source": [
    "# Required plotting setting\n",
    "import matplotlib\n",
    "matplotlib.rcParams['pdf.fonttype'] = 42\n",
    "import matplotlib.pyplot as plt\n",
    "plt.rc('font', family='serif')\n",
    "plt.rc('font', serif='Arial')\n",
    "_font_size = 7.5"
   ]
  },
  {
   "cell_type": "code",
   "execution_count": 3,
   "metadata": {},
   "outputs": [],
   "source": [
    "# Required plotting parameters\n",
    "from source.figure_tools import _dpi,_single_col_width,_double_col_width,_single_row_height,_ref_bar_length, _ticklabel_size,_ticklabel_width,_font_size"
   ]
  },
  {
   "cell_type": "code",
   "execution_count": 4,
   "metadata": {},
   "outputs": [
    {
     "name": "stdout",
     "output_type": "stream",
     "text": [
      "\\\\10.245.74.158\\Chromatin_NAS_4\\Chromatin_Share\\cleaned_repeat_figure\\Figure3\n",
      "generating this folder\n"
     ]
    }
   ],
   "source": [
    "# figure folder\n",
    "parent_figure_folder = r'\\\\10.245.74.158\\Chromatin_NAS_4\\Chromatin_Share\\cleaned_repeat_figure'\n",
    "figure_folder = os.path.join(parent_figure_folder, 'Figure3')\n",
    "print(figure_folder)\n",
    "if not os.path.exists(figure_folder):\n",
    "    os.makedirs(figure_folder)\n",
    "    print(\"generating this folder\")"
   ]
  },
  {
   "cell_type": "markdown",
   "metadata": {},
   "source": [
    "# 0. Load data"
   ]
  },
  {
   "cell_type": "code",
   "execution_count": 5,
   "metadata": {},
   "outputs": [],
   "source": [
    "# data folder\n",
    "data_folder = r'\\\\10.245.74.158\\Chromatin_NAS_4\\Chromatin_Share\\Repicked_chromosome_data'\n",
    "# load data\n",
    "data_rep1 = pickle.load(open(os.path.join(data_folder, r'newAnalysis_chr21_after_selection.pkl'),'rb'))\n",
    "data_rep2 = pickle.load(open(os.path.join(data_folder, r'newAnalysis_chr21-repeat_after_selection.pkl'),'rb'))"
   ]
  },
  {
   "cell_type": "markdown",
   "metadata": {},
   "source": [
    "## genomic coordinate info"
   ]
  },
  {
   "cell_type": "code",
   "execution_count": 6,
   "metadata": {},
   "outputs": [
    {
     "name": "stdout",
     "output_type": "stream",
     "text": [
      "- Importing csv file: \\\\10.245.74.158\\Chromatin_NAS_0\\References\\Region_Positions.csv\n",
      "- header: ['region', 'chr', 'start', 'end', 'midpoint']\n",
      "-- 651 genomic regions loaded!\n"
     ]
    }
   ],
   "source": [
    "# Load genomic distance maps\n",
    "# reference folder\n",
    "ref_folder = r'\\\\10.245.74.158\\Chromatin_NAS_0\\References'\n",
    "# load genomic positions\n",
    "genomic_dic = ia.get_img_info.Load_Region_Positions(ref_folder)\n",
    "mid_positions = np.array([_v['midpoint'] for _k,_v in genomic_dic.items()])\n",
    "mid_positions_Mb = np.round(mid_positions/1e6, 2)\n",
    "\n",
    "genomic_distance_map = squareform(pdist(mid_positions[:,np.newaxis]))\n",
    "genomic_distance_entries = genomic_distance_map[np.triu_indices(len(genomic_distance_map),1)]\n",
    "\n",
    "genomic_positions_Mb = np.round(mid_positions/1e6, 2)\n",
    "# genomic dist map\n",
    "genomic_dist_mat = squareform(pdist(genomic_positions_Mb[:,np.newaxis]))"
   ]
  },
  {
   "cell_type": "markdown",
   "metadata": {},
   "source": [
    "## 0.1 prepare data domains and compartments\n",
    "\n",
    "Note: I have re-saved chr21-rep2 domain_starts, so essentially you don't need to run this section"
   ]
  },
  {
   "cell_type": "markdown",
   "metadata": {},
   "source": [
    "### 0.1.1 domains"
   ]
  },
  {
   "cell_type": "code",
   "execution_count": 15,
   "metadata": {},
   "outputs": [
    {
     "name": "stdout",
     "output_type": "stream",
     "text": [
      "Multiprocessing call domain starts in 0.000s.\n"
     ]
    }
   ],
   "source": [
    "sys.path.append(r\"\\\\10.245.74.158\\Chromatin_NAS_4\\Chromatin_Share\\BB_forPu\")\n",
    "import DomainAnalysis as da\n",
    "import multiprocessing as mp\n",
    "\n",
    "num_threads=32\n",
    "domain_corr_cutoff = 0.75 \n",
    "domain_dist_cutoff = 500 # nm\n",
    "\n",
    "_domain_args = [(_hzxys[:,1:], 4, 1000, domain_corr_cutoff, domain_dist_cutoff) \n",
    "                     for _hzxys in data_rep1['dna_hzxys']]\n",
    "_domain_time = time.time()\n",
    "\n",
    "print(f\"Multiprocessing call domain starts\", end=' ')\n",
    "if 'domain_starts' not in data_rep1:\n",
    "    with mp.Pool(num_threads) as domain_pool:\n",
    "        domain_results = domain_pool.starmap(da.get_dom_starts_cor, _domain_args)\n",
    "        domain_pool.close()\n",
    "        domain_pool.join()\n",
    "        domain_pool.terminate()\n",
    "    # save\n",
    "    data_rep1['domain_starts'] = [np.array(_r[-1]) for _r in domain_results]\n",
    "    data_rep1['params']['domain_corr_cutoff'] = domain_corr_cutoff\n",
    "    data_rep1['params']['domain_dist_cutoff'] = domain_dist_cutoff\n",
    "    \n",
    "print(f\"in {time.time()-_domain_time:.3f}s.\")"
   ]
  },
  {
   "cell_type": "code",
   "execution_count": 17,
   "metadata": {
    "scrolled": true
   },
   "outputs": [
    {
     "name": "stdout",
     "output_type": "stream",
     "text": [
      "Multiprocessing call domain starts in 58.317s.\n"
     ]
    }
   ],
   "source": [
    "sys.path.append(r\"\\\\10.245.74.158\\Chromatin_NAS_4\\Chromatin_Share\\BB_forPu\")\n",
    "import DomainAnalysis as da\n",
    "import multiprocessing as mp\n",
    "\n",
    "num_threads=32\n",
    "domain_corr_cutoff = 0.75 \n",
    "domain_dist_cutoff = 500 # nm\n",
    "\n",
    "_domain_args = [(_hzxys[:,1:], 4, 1000, domain_corr_cutoff, domain_dist_cutoff) \n",
    "                     for _hzxys in data_rep2['dna_hzxys']]\n",
    "_domain_time = time.time()\n",
    "\n",
    "print(f\"Multiprocessing call domain starts\", end=' ')\n",
    "if 'domain_starts' not in data_rep2:\n",
    "    with mp.Pool(num_threads) as domain_pool:\n",
    "        domain_results = domain_pool.starmap(da.get_dom_starts_cor, _domain_args)\n",
    "        domain_pool.close()\n",
    "        domain_pool.join()\n",
    "        domain_pool.terminate()\n",
    "    # save\n",
    "    data_rep2['domain_starts'] = [np.array(_r[-1]) for _r in domain_results]\n",
    "    data_rep2['params']['domain_corr_cutoff'] = domain_corr_cutoff\n",
    "    data_rep2['params']['domain_dist_cutoff'] = domain_dist_cutoff\n",
    "    \n",
    "print(f\"in {time.time()-_domain_time:.3f}s.\")"
   ]
  },
  {
   "cell_type": "markdown",
   "metadata": {},
   "source": [
    "### 0.1.2: domain interaction calling"
   ]
  },
  {
   "cell_type": "code",
   "execution_count": null,
   "metadata": {},
   "outputs": [],
   "source": [
    "# cutoff for:\n",
    "#  domain pairs touching each other -> insulation score <= 2\n",
    "#  domain pairs fully intermix with each other -> insulation score <= 1\n",
    "domain_interact_cutoff = 2\n",
    "domain_intermix_cutoff = 1\n",
    "#"
   ]
  },
  {
   "cell_type": "markdown",
   "metadata": {},
   "source": [
    "# Please fill in code here"
   ]
  },
  {
   "cell_type": "code",
   "execution_count": null,
   "metadata": {},
   "outputs": [],
   "source": []
  }
 ],
 "metadata": {
  "kernelspec": {
   "display_name": "Python 3",
   "language": "python",
   "name": "python3"
  },
  "language_info": {
   "codemirror_mode": {
    "name": "ipython",
    "version": 3
   },
   "file_extension": ".py",
   "mimetype": "text/x-python",
   "name": "python",
   "nbconvert_exporter": "python",
   "pygments_lexer": "ipython3",
   "version": "3.7.3"
  }
 },
 "nbformat": 4,
 "nbformat_minor": 2
}
