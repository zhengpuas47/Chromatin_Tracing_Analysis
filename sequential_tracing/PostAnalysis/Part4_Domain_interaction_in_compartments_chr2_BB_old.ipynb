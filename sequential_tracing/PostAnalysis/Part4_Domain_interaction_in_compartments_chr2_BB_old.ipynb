{
 "cells": [
  {
   "cell_type": "markdown",
   "metadata": {},
   "source": [
    "# This a jupyter notebook guide on domain interaction anaylsis for chr2, in the regime of A,B compartments\n",
    "\n",
    "by Pu Zheng \n",
    "\n",
    "2020.06.06\n"
   ]
  },
  {
   "cell_type": "markdown",
   "metadata": {},
   "source": [
    "## Import packages"
   ]
  },
  {
   "cell_type": "code",
   "execution_count": 1,
   "metadata": {},
   "outputs": [
    {
     "name": "stdout",
     "output_type": "stream",
     "text": [
<<<<<<< HEAD
      "2444\n"
=======
      "30632\n"
>>>>>>> a3166e80fc29c4aa15f2da2896a11c3b2034c2d4
     ]
    }
   ],
   "source": [
    "# imports\n",
    "import sys, os, glob, time, copy\n",
    "import numpy as np\n",
    "import scipy\n",
    "import pickle\n",
    "\n",
    "sys.path.append(os.path.abspath(r\"..\\.\"))\n",
    "\n",
    "import source as ia\n",
    "\n",
    "from scipy.signal import find_peaks\n",
    "from scipy.spatial.distance import cdist,pdist,squareform\n",
    "\n",
    "print(os.getpid()) # print this so u can terminate through cmd / task-manager"
   ]
  },
  {
   "cell_type": "markdown",
   "metadata": {},
   "source": [
    "## Import plotting"
   ]
  },
  {
   "cell_type": "code",
   "execution_count": 2,
   "metadata": {},
   "outputs": [],
   "source": [
    "# Required plotting setting\n",
    "import matplotlib\n",
    "matplotlib.rcParams['pdf.fonttype'] = 42\n",
    "import matplotlib.pyplot as plt\n",
    "plt.rc('font', family='serif')\n",
    "plt.rc('font', serif='Arial')\n",
    "_font_size = 7.5"
   ]
  },
  {
   "cell_type": "code",
   "execution_count": 3,
   "metadata": {},
   "outputs": [],
   "source": [
    "# Required plotting parameters\n",
    "from source.figure_tools import _dpi,_single_col_width,_double_col_width,_single_row_height,_ref_bar_length, _ticklabel_size,_ticklabel_width,_font_size"
   ]
  },
  {
   "cell_type": "code",
   "execution_count": 4,
   "metadata": {},
   "outputs": [
    {
     "name": "stdout",
     "output_type": "stream",
     "text": [
      "\\\\10.245.74.158\\Chromatin_NAS_4\\Chromatin_Share\\cleaned_repeat_figure\\Figure3\n"
     ]
    }
   ],
   "source": [
    "# figure folder\n",
    "parent_figure_folder = r'\\\\10.245.74.158\\Chromatin_NAS_4\\Chromatin_Share\\cleaned_repeat_figure'\n",
    "figure_folder = os.path.join(parent_figure_folder, 'Figure3')\n",
    "print(figure_folder)\n",
    "if not os.path.exists(figure_folder):\n",
    "    os.makedirs(figure_folder)\n",
    "    print(\"generating this folder\")"
   ]
  },
  {
   "cell_type": "markdown",
   "metadata": {},
   "source": [
    "# 0. Load data"
   ]
  },
  {
   "cell_type": "code",
   "execution_count": 5,
   "metadata": {},
   "outputs": [],
   "source": [
    "## chr2 dataset\n",
    "# load data containing candidates\n",
    "data_folder = r'\\\\10.245.74.158\\Chromatin_NAS_4\\Chromatin_Share\\Repicked_chromosome_data'\n",
    "\n",
    "data_rep1 = pickle.load(open(os.path.join(data_folder, r'chr2_after_selection.pkl'), 'rb'))"
   ]
  },
  {
   "cell_type": "markdown",
   "metadata": {},
   "source": [
    "## genomic coordinate info"
   ]
  },
  {
   "cell_type": "code",
   "execution_count": 7,
   "metadata": {},
   "outputs": [
    {
     "name": "stdout",
     "output_type": "stream",
     "text": [
      "- Importing csv file: \\\\10.245.74.69\\Chromatin_NAS_3\\20191007_CTP07_chr2\\Analysis\\Region_Positions.csv\n",
      "- header: ['region', 'chr', 'start', 'end', 'midpoint']\n",
      "-- 935 genomic regions loaded!\n"
     ]
    }
   ],
   "source": [
    "# reference folder\n",
    "ref_folder = r'\\\\10.245.74.69\\Chromatin_NAS_3\\20191007_CTP07_chr2\\Analysis'\n",
    "# load genomic positions\n",
    "genomic_dic = ia.get_img_info.Load_Region_Positions(ref_folder)\n",
    "mid_positions = np.array([_v['midpoint'] for _k,_v in genomic_dic.items()])\n",
    "\n",
    "genomic_distance_map = squareform(pdist(mid_positions[:,np.newaxis]))\n",
    "genomic_distance_entries = genomic_distance_map[np.triu_indices(len(genomic_distance_map),1)]\n",
    "\n",
    "genomic_positions_Mb = np.round(mid_positions/1e6, 2)\n",
    "# genomic dist map\n",
    "genomic_dist_mat = squareform(pdist(genomic_positions_Mb[:,np.newaxis]))\n",
    "\n",
    "region_starts = np.array([_v['start'] for _k,_v in genomic_dic.items()], dtype=np.int)\n",
    "region_ends = np.array([_v['end'] for _k,_v in genomic_dic.items()], dtype=np.int)"
   ]
  },
  {
   "cell_type": "code",
   "execution_count": 8,
   "metadata": {},
   "outputs": [
    {
     "name": "stderr",
     "output_type": "stream",
     "text": [
      "C:\\Users\\Bogdan\\Anaconda3\\lib\\site-packages\\ipykernel_launcher.py:8: RuntimeWarning: invalid value encountered in less\n",
      "  \n"
     ]
    }
   ],
   "source": [
    "zxys_rep1_list = np.array(data_rep1['dna_hzxys'])[:,:,1:4]\n",
    "distmap_rep1_list = np.array([squareform(pdist(_zxy)) for _zxy in zxys_rep1_list])\n",
    "\n",
    "# generate median distance map\n",
    "median_distance_map = np.nanmedian(distmap_rep1_list, axis = 0)\n",
    "# generate contact map\n",
    "contact_th = 500\n",
    "contact_map = np.nanmean(distmap_rep1_list < contact_th, axis=0)\n",
    "# load Hi-C\n",
    "hic_raw_map = np.load(r'\\\\10.245.74.158\\Chromatin_NAS_0\\Hi-C\\chr2_hg38_50000.npy')"
   ]
  },
  {
   "cell_type": "code",
   "execution_count": 15,
   "metadata": {},
   "outputs": [],
   "source": [
    "keys = np.sort(list(genomic_dic.keys()))\n",
    "coords = [genomic_dic[i]['chr']+':'+str(genomic_dic[i]['start'])+'-'+str(genomic_dic[i]['end']) for i in keys]"
   ]
  },
  {
   "cell_type": "code",
   "execution_count": 17,
   "metadata": {},
   "outputs": [],
   "source": [
    "save_folder = r'C:\\Users\\Bogdan\\Dropbox\\2020 Chromatin Imaging Manuscript\\Revision\\DataForReviewers\\population-averaged'\n",
    "fid = open(save_folder+r'\\median_distance_chromosome2.tsv','w')\n",
    "head = '\\t'+'\\t'.join(coords)+'\\n'\n",
    "fid.write(head)\n",
    "icoord = 0\n",
    "for row in (median_distance_map).astype(int).astype(str):\n",
    "    row_ = coords[icoord]+'\\t'+'\\t'.join(row)+'\\n'\n",
    "    fid.write(row_)\n",
    "    icoord+=1\n",
    "fid.close()\n",
    "\n",
    "\n",
    "fid = open(save_folder+r'\\proximity-probability_chromosome2.tsv','w')\n",
    "head = '\\t'+'\\t'.join(coords)+'\\n'\n",
    "fid.write(head)\n",
    "im_save = np.round(contact_map,15)\n",
    "icoord = 0\n",
    "for row in im_save.astype(str):\n",
    "    row_ = coords[icoord]+'\\t'+'\\t'.join(row)+'\\n'\n",
    "    fid.write(row_)\n",
    "    icoord+=1\n",
    "fid.close()\n",
    "\n"
   ]
  },
  {
   "cell_type": "code",
   "execution_count": 27,
   "metadata": {},
   "outputs": [],
   "source": [
    "fid = open(save_folder+r'\\hi-c_contacts_chromosome2.tsv','w')\n",
    "head = '\\t'+'\\t'.join(coords)+'\\n'\n",
    "fid.write(head)\n",
    "im_save =hic_raw_map[keys][:,keys].astype(int)\n",
    "icoord = 0\n",
    "for row in im_save.astype(str):\n",
    "    row_ = coords[icoord]+'\\t'+'\\t'.join(row)+'\\n'\n",
    "    fid.write(row_)\n",
    "    icoord+=1"
   ]
  },
  {
   "cell_type": "code",
   "execution_count": 26,
   "metadata": {},
   "outputs": [
    {
     "data": {
      "text/plain": [
       "(935,)"
      ]
     },
     "execution_count": 26,
     "metadata": {},
     "output_type": "execute_result"
    }
   ],
   "source": [
    "hic_raw_map[keys,keys].shape"
   ]
  },
  {
   "cell_type": "code",
   "execution_count": 12,
   "metadata": {},
   "outputs": [],
   "source": [
    "#plt.imshow(np.log(hic_raw_map))"
   ]
  },
  {
   "cell_type": "markdown",
   "metadata": {},
   "source": [
    "## 0.1 prepare data domains and compartments\n",
    "\n",
    "Note: Please check what parameter you have used to call domains for chr2 and run it here"
   ]
  },
  {
   "cell_type": "markdown",
   "metadata": {},
   "source": [
    "### 0.1.1 domains"
   ]
  },
  {
   "cell_type": "code",
   "execution_count": 7,
   "metadata": {},
   "outputs": [
    {
     "name": "stdout",
     "output_type": "stream",
     "text": [
<<<<<<< HEAD
      "Multiprocessing call domain starts in 76.038s.\n"
=======
      "Multiprocessing call domain starts in 75.123s.\n"
>>>>>>> a3166e80fc29c4aa15f2da2896a11c3b2034c2d4
     ]
    }
   ],
   "source": [
    "sys.path.append(r\"\\\\10.245.74.158\\Chromatin_NAS_4\\Chromatin_Share\\BB_forPu\")\n",
    "import DomainAnalysis as da\n",
    "import multiprocessing as mp\n",
    "\n",
    "num_threads=32\n",
    "domain_corr_cutoff = 0.85 \n",
    "domain_dist_cutoff = 1000 # nm\n",
    "\n",
    "_domain_args = [(_hzxys[:,1:], 4, 1000, domain_corr_cutoff, domain_dist_cutoff) \n",
    "                     for _hzxys in data_rep1['dna_hzxys']]\n",
    "_domain_time = time.time()\n",
    "\n",
    "print(f\"Multiprocessing call domain starts\", end=' ')\n",
    "if 'domain_starts' not in data_rep1:\n",
    "    with mp.Pool(num_threads) as domain_pool:\n",
    "        domain_results = domain_pool.starmap(da.get_dom_starts_cor, _domain_args)\n",
    "        domain_pool.close()\n",
    "        domain_pool.join()\n",
    "        domain_pool.terminate()\n",
    "    # save\n",
    "    data_rep1['domain_starts'] = [np.array(_r[-1]) for _r in domain_results]\n",
    "    data_rep1['params']['domain_corr_cutoff'] = domain_corr_cutoff\n",
    "    data_rep1['params']['domain_dist_cutoff'] = domain_dist_cutoff\n",
    "    \n",
    "print(f\"in {time.time()-_domain_time:.3f}s.\")"
   ]
  },
  {
   "cell_type": "markdown",
   "metadata": {},
   "source": [
    "### 0.1.2: domain interaction calling"
   ]
  },
  {
   "cell_type": "code",
   "execution_count": null,
   "metadata": {},
   "outputs": [],
   "source": [
    "# cutoff for:\n",
    "#  domain pairs touching each other -> insulation score <= 2\n",
    "#  domain pairs fully intermix with each other -> insulation score <= 1\n",
    "domain_interact_cutoff = 2\n",
    "domain_intermix_cutoff = 1\n",
    "#"
   ]
  },
  {
   "cell_type": "markdown",
   "metadata": {},
   "source": [
    "# Please fill in code here"
   ]
  },
  {
   "cell_type": "code",
   "execution_count": null,
   "metadata": {},
   "outputs": [],
   "source": [
    "cutoffs = [1,1.25,1.5,1.75,2]\n",
    "\n",
    "from tqdm import tqdm_notebook as tqdm\n",
    "fuses_all_v2 = [[] for cutoff in cutoffs]\n",
    "for ichr in tqdm(range(len(zxys))):\n",
    "    zxy = zxys[ichr]\n",
    "    dom_starts_f = dom_starts_fs[ichr]\n",
    "\n",
    "    bad = np.isnan(zxy[:,0])\n",
    "    zxy_ = zxy[~bad]\n",
    "    mat=squareform(pdist(zxy_))\n",
    "    dom_starts = np.zeros(len(zxy))\n",
    "    dom_starts[dom_starts_f[:-1]]=1\n",
    "    dom_starts = list(np.where(dom_starts[~bad])[0])+[len(zxy_)]\n",
    "    fuses_all_v2_=[[] for cutoff in cutoffs]\n",
    "    for i in range(len(dom_starts)-1):\n",
    "        for j in range(i):\n",
    "            in_i = squareform(mat[dom_starts[i]:dom_starts[i+1],dom_starts[i]:dom_starts[i+1]])\n",
    "            in_j = squareform(mat[dom_starts[j]:dom_starts[j+1],dom_starts[j]:dom_starts[j+1]])\n",
    "            in_doms = np.median(np.concatenate([in_i,in_j]))\n",
    "            out_doms = np.median(mat[dom_starts[i]:dom_starts[i+1],dom_starts[j]:dom_starts[j+1]])\n",
    "            ins_score = out_doms/in_doms\n",
    "            for icutoff,cutoff in enumerate(cutoffs):\n",
    "                if ins_score<cutoff:\n",
    "                    fuses_all_v2_[icutoff].append([i,j])\n",
    "    for icutoff,cutoff in enumerate(cutoffs):\n",
    "        fuses_all_v2[icutoff].append(fuses_all_v2_[icutoff])\n",
    "\n",
    "\n",
    "#save_fl  = 'dom_fuses_chr21_newAnalysis___'+str(int(cutoff_cor*100))+'__cutoff'+str(cutoffs)+'.npy'\n",
    "#print(os.path.abspath(save_fl))\n",
    "#np.save(save_fl,fuses_all_v2)"
   ]
  }
 ],
 "metadata": {
  "kernelspec": {
   "display_name": "Python 3",
   "language": "python",
   "name": "python3"
  },
  "language_info": {
   "codemirror_mode": {
    "name": "ipython",
    "version": 3
   },
   "file_extension": ".py",
   "mimetype": "text/x-python",
   "name": "python",
   "nbconvert_exporter": "python",
   "pygments_lexer": "ipython3",
   "version": "3.7.3"
  }
 },
 "nbformat": 4,
 "nbformat_minor": 2
}
