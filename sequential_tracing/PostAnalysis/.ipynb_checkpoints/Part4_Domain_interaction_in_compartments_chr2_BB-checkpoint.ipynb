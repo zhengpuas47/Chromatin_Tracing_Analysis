{
 "cells": [
  {
   "cell_type": "markdown",
   "metadata": {},
   "source": [
    "# This a jupyter notebook guide on domain interaction anaylsis for chr2, in the regime of A,B compartments\n",
    "\n",
    "by Pu Zheng \n",
    "\n",
    "2020.06.06\n"
   ]
  },
  {
   "cell_type": "markdown",
   "metadata": {},
   "source": [
    "## Import packages"
   ]
  },
  {
   "cell_type": "code",
   "execution_count": 1,
   "metadata": {},
   "outputs": [
    {
     "name": "stdout",
     "output_type": "stream",
     "text": [
      "19212\n"
     ]
    }
   ],
   "source": [
    "# imports\n",
    "import sys, os, glob, time, copy\n",
    "import numpy as np\n",
    "import scipy\n",
    "import pickle\n",
    "\n",
    "sys.path.append(os.path.abspath(r\"..\\.\"))\n",
    "\n",
    "import source as ia\n",
    "\n",
    "from scipy.signal import find_peaks\n",
    "from scipy.spatial.distance import cdist,pdist,squareform\n",
    "\n",
    "print(os.getpid()) # print this so u can terminate through cmd / task-manager"
   ]
  },
  {
   "cell_type": "markdown",
   "metadata": {},
   "source": [
    "## Import plotting"
   ]
  },
  {
   "cell_type": "code",
   "execution_count": 2,
   "metadata": {},
   "outputs": [],
   "source": [
    "# Required plotting setting\n",
    "import matplotlib\n",
    "matplotlib.rcParams['pdf.fonttype'] = 42\n",
    "import matplotlib.pyplot as plt\n",
    "plt.rc('font', family='serif')\n",
    "plt.rc('font', serif='Arial')\n",
    "_font_size = 7.5"
   ]
  },
  {
   "cell_type": "code",
   "execution_count": 3,
   "metadata": {},
   "outputs": [],
   "source": [
    "# Required plotting parameters\n",
    "from source.figure_tools import _dpi,_single_col_width,_double_col_width,_single_row_height,_ref_bar_length, _ticklabel_size,_ticklabel_width,_font_size"
   ]
  },
  {
   "cell_type": "code",
   "execution_count": 4,
   "metadata": {},
   "outputs": [
    {
     "name": "stdout",
     "output_type": "stream",
     "text": [
      "\\\\10.245.74.158\\Chromatin_NAS_4\\Chromatin_Share\\cleaned_repeat_figure\\Figure3\n"
     ]
    }
   ],
   "source": [
    "# figure folder\n",
    "parent_figure_folder = r'\\\\10.245.74.158\\Chromatin_NAS_4\\Chromatin_Share\\cleaned_repeat_figure'\n",
    "figure_folder = os.path.join(parent_figure_folder, 'Figure3')\n",
    "print(figure_folder)\n",
    "if not os.path.exists(figure_folder):\n",
    "    os.makedirs(figure_folder)\n",
    "    print(\"generating this folder\")"
   ]
  },
  {
   "cell_type": "markdown",
   "metadata": {},
   "source": [
    "# 0. Load data"
   ]
  },
  {
   "cell_type": "code",
   "execution_count": 5,
   "metadata": {},
   "outputs": [],
   "source": [
    "## chr2 dataset\n",
    "# load data containing candidates\n",
    "data_folder = r'\\\\10.245.74.158\\Chromatin_NAS_4\\Chromatin_Share\\Repicked_chromosome_data'\n",
    "\n",
    "data_rep1 = pickle.load(open(os.path.join(data_folder, r'chr2_after_selection.pkl'), 'rb'))"
   ]
  },
  {
   "cell_type": "markdown",
   "metadata": {},
   "source": [
    "## genomic coordinate info"
   ]
  },
  {
   "cell_type": "code",
   "execution_count": 6,
   "metadata": {},
   "outputs": [
    {
     "name": "stdout",
     "output_type": "stream",
     "text": [
      "- Importing csv file: \\\\10.245.74.69\\Chromatin_NAS_3\\20191007_CTP07_chr2\\Analysis\\Region_Positions.csv\n"
     ]
    },
    {
     "ename": "OSError",
     "evalue": "[Errno 22] Invalid argument: '\\\\\\\\10.245.74.69\\\\Chromatin_NAS_3\\\\20191007_CTP07_chr2\\\\Analysis\\\\Region_Positions.csv'",
     "output_type": "error",
     "traceback": [
      "\u001b[1;31m---------------------------------------------------------------------------\u001b[0m",
      "\u001b[1;31mOSError\u001b[0m                                   Traceback (most recent call last)",
      "\u001b[1;32m<ipython-input-6-6d847d3b7151>\u001b[0m in \u001b[0;36m<module>\u001b[1;34m\u001b[0m\n\u001b[0;32m      2\u001b[0m \u001b[0mref_folder\u001b[0m \u001b[1;33m=\u001b[0m \u001b[1;34mr'\\\\10.245.74.69\\Chromatin_NAS_3\\20191007_CTP07_chr2\\Analysis'\u001b[0m\u001b[1;33m\u001b[0m\u001b[1;33m\u001b[0m\u001b[0m\n\u001b[0;32m      3\u001b[0m \u001b[1;31m# load genomic positions\u001b[0m\u001b[1;33m\u001b[0m\u001b[1;33m\u001b[0m\u001b[1;33m\u001b[0m\u001b[0m\n\u001b[1;32m----> 4\u001b[1;33m \u001b[0mgenomic_dic\u001b[0m \u001b[1;33m=\u001b[0m \u001b[0mia\u001b[0m\u001b[1;33m.\u001b[0m\u001b[0mget_img_info\u001b[0m\u001b[1;33m.\u001b[0m\u001b[0mLoad_Region_Positions\u001b[0m\u001b[1;33m(\u001b[0m\u001b[0mref_folder\u001b[0m\u001b[1;33m)\u001b[0m\u001b[1;33m\u001b[0m\u001b[1;33m\u001b[0m\u001b[0m\n\u001b[0m\u001b[0;32m      5\u001b[0m \u001b[0mmid_positions\u001b[0m \u001b[1;33m=\u001b[0m \u001b[0mnp\u001b[0m\u001b[1;33m.\u001b[0m\u001b[0marray\u001b[0m\u001b[1;33m(\u001b[0m\u001b[1;33m[\u001b[0m\u001b[0m_v\u001b[0m\u001b[1;33m[\u001b[0m\u001b[1;34m'midpoint'\u001b[0m\u001b[1;33m]\u001b[0m \u001b[1;32mfor\u001b[0m \u001b[0m_k\u001b[0m\u001b[1;33m,\u001b[0m\u001b[0m_v\u001b[0m \u001b[1;32min\u001b[0m \u001b[0mgenomic_dic\u001b[0m\u001b[1;33m.\u001b[0m\u001b[0mitems\u001b[0m\u001b[1;33m(\u001b[0m\u001b[1;33m)\u001b[0m\u001b[1;33m]\u001b[0m\u001b[1;33m)\u001b[0m\u001b[1;33m\u001b[0m\u001b[1;33m\u001b[0m\u001b[0m\n\u001b[0;32m      6\u001b[0m \u001b[1;33m\u001b[0m\u001b[0m\n",
      "\u001b[1;32m~\\Dropbox\\code_Seurat\\Chromatin_Tracing_Analysis_v2\\sequential_tracing\\source\\get_img_info.py\u001b[0m in \u001b[0;36mLoad_Region_Positions\u001b[1;34m(analysis_folder, filename, table_format, verbose)\u001b[0m\n\u001b[0;32m    169\u001b[0m             \u001b[0mprint\u001b[0m\u001b[1;33m(\u001b[0m\u001b[1;34m\"- Importing csv file:\"\u001b[0m\u001b[1;33m,\u001b[0m \u001b[0m_full_name\u001b[0m\u001b[1;33m)\u001b[0m\u001b[1;33m\u001b[0m\u001b[1;33m\u001b[0m\u001b[0m\n\u001b[0;32m    170\u001b[0m         \u001b[1;32mimport\u001b[0m \u001b[0mcsv\u001b[0m\u001b[1;33m\u001b[0m\u001b[1;33m\u001b[0m\u001b[0m\n\u001b[1;32m--> 171\u001b[1;33m         \u001b[1;32mwith\u001b[0m \u001b[0mopen\u001b[0m\u001b[1;33m(\u001b[0m\u001b[0m_full_name\u001b[0m\u001b[1;33m,\u001b[0m \u001b[1;34m'r'\u001b[0m\u001b[1;33m)\u001b[0m \u001b[1;32mas\u001b[0m \u001b[0m_handle\u001b[0m\u001b[1;33m:\u001b[0m\u001b[1;33m\u001b[0m\u001b[1;33m\u001b[0m\u001b[0m\n\u001b[0m\u001b[0;32m    172\u001b[0m             \u001b[0m_reader\u001b[0m \u001b[1;33m=\u001b[0m \u001b[0mcsv\u001b[0m\u001b[1;33m.\u001b[0m\u001b[0mreader\u001b[0m\u001b[1;33m(\u001b[0m\u001b[0m_handle\u001b[0m\u001b[1;33m)\u001b[0m\u001b[1;33m\u001b[0m\u001b[1;33m\u001b[0m\u001b[0m\n\u001b[0;32m    173\u001b[0m             \u001b[0m_header\u001b[0m \u001b[1;33m=\u001b[0m \u001b[0mnext\u001b[0m\u001b[1;33m(\u001b[0m\u001b[0m_reader\u001b[0m\u001b[1;33m)\u001b[0m\u001b[1;33m\u001b[0m\u001b[1;33m\u001b[0m\u001b[0m\n",
      "\u001b[1;31mOSError\u001b[0m: [Errno 22] Invalid argument: '\\\\\\\\10.245.74.69\\\\Chromatin_NAS_3\\\\20191007_CTP07_chr2\\\\Analysis\\\\Region_Positions.csv'"
     ]
    }
   ],
   "source": [
    "# reference folder\n",
    "ref_folder = r'\\\\10.245.74.69\\Chromatin_NAS_3\\20191007_CTP07_chr2\\Analysis'\n",
    "# load genomic positions\n",
    "genomic_dic = ia.get_img_info.Load_Region_Positions(ref_folder)\n",
    "mid_positions = np.array([_v['midpoint'] for _k,_v in genomic_dic.items()])\n",
    "\n",
    "genomic_distance_map = squareform(pdist(mid_positions[:,np.newaxis]))\n",
    "genomic_distance_entries = genomic_distance_map[np.triu_indices(len(genomic_distance_map),1)]\n",
    "\n",
    "genomic_positions_Mb = np.round(mid_positions/1e6, 2)\n",
    "# genomic dist map\n",
    "genomic_dist_mat = squareform(pdist(genomic_positions_Mb[:,np.newaxis]))\n",
    "\n",
    "region_starts = np.array([_v['start'] for _k,_v in genomic_dic.items()], dtype=np.int)\n",
    "region_ends = np.array([_v['end'] for _k,_v in genomic_dic.items()], dtype=np.int)"
   ]
  },
  {
   "cell_type": "markdown",
   "metadata": {},
   "source": [
    "## 0.1 prepare data domains and compartments\n",
    "\n",
    "Note: Please check what parameter you have used to call domains for chr2 and run it here"
   ]
  },
  {
   "cell_type": "markdown",
   "metadata": {},
   "source": [
    "### 0.1.1 domains"
   ]
  },
  {
   "cell_type": "code",
   "execution_count": null,
   "metadata": {},
   "outputs": [
    {
     "name": "stdout",
     "output_type": "stream",
     "text": [
      "Multiprocessing call domain starts "
     ]
    }
   ],
   "source": [
    "sys.path.append(r\"\\\\10.245.74.158\\Chromatin_NAS_4\\Chromatin_Share\\BB_forPu\")\n",
    "import DomainAnalysis as da\n",
    "import multiprocessing as mp\n",
    "\n",
    "num_threads=32\n",
    "domain_corr_cutoff = 0.85 \n",
    "domain_dist_cutoff = 1000 # nm\n",
    "\n",
    "_domain_args = [(_hzxys[:,1:], 4, 1000, domain_corr_cutoff, domain_dist_cutoff) \n",
    "                     for _hzxys in data_rep1['dna_hzxys']]\n",
    "_domain_time = time.time()\n",
    "\n",
    "print(f\"Multiprocessing call domain starts\", end=' ')\n",
    "if 'domain_starts' not in data_rep1:\n",
    "    with mp.Pool(num_threads) as domain_pool:\n",
    "        domain_results = domain_pool.starmap(da.get_dom_starts_cor, _domain_args)\n",
    "        domain_pool.close()\n",
    "        domain_pool.join()\n",
    "        domain_pool.terminate()\n",
    "    # save\n",
    "    data_rep1['domain_starts'] = [np.array(_r[-1]) for _r in domain_results]\n",
    "    data_rep1['params']['domain_corr_cutoff'] = domain_corr_cutoff\n",
    "    data_rep1['params']['domain_dist_cutoff'] = domain_dist_cutoff\n",
    "    \n",
    "print(f\"in {time.time()-_domain_time:.3f}s.\")"
   ]
  },
  {
   "cell_type": "markdown",
   "metadata": {},
   "source": [
    "### 0.1.2: domain interaction calling"
   ]
  },
  {
   "cell_type": "code",
   "execution_count": null,
   "metadata": {},
   "outputs": [],
   "source": [
    "# cutoff for:\n",
    "#  domain pairs touching each other -> insulation score <= 2\n",
    "#  domain pairs fully intermix with each other -> insulation score <= 1\n",
    "domain_interact_cutoff = 2\n",
    "domain_intermix_cutoff = 1\n",
    "#"
   ]
  },
  {
   "cell_type": "markdown",
   "metadata": {},
   "source": [
    "# Please fill in code here"
   ]
  },
  {
   "cell_type": "code",
   "execution_count": null,
   "metadata": {},
   "outputs": [],
   "source": [
    "cutoffs = [1,1.25,1.5,1.75,2]\n",
    "\n",
    "from tqdm import tqdm_notebook as tqdm\n",
    "fuses_all_v2 = [[] for cutoff in cutoffs]\n",
    "for ichr in tqdm(range(len(zxys))):\n",
    "    zxy = zxys[ichr]\n",
    "    dom_starts_f = dom_starts_fs[ichr]\n",
    "\n",
    "    bad = np.isnan(zxy[:,0])\n",
    "    zxy_ = zxy[~bad]\n",
    "    mat=squareform(pdist(zxy_))\n",
    "    dom_starts = np.zeros(len(zxy))\n",
    "    dom_starts[dom_starts_f[:-1]]=1\n",
    "    dom_starts = list(np.where(dom_starts[~bad])[0])+[len(zxy_)]\n",
    "    fuses_all_v2_=[[] for cutoff in cutoffs]\n",
    "    for i in range(len(dom_starts)-1):\n",
    "        for j in range(i):\n",
    "            in_i = squareform(mat[dom_starts[i]:dom_starts[i+1],dom_starts[i]:dom_starts[i+1]])\n",
    "            in_j = squareform(mat[dom_starts[j]:dom_starts[j+1],dom_starts[j]:dom_starts[j+1]])\n",
    "            in_doms = np.median(np.concatenate([in_i,in_j]))\n",
    "            out_doms = np.median(mat[dom_starts[i]:dom_starts[i+1],dom_starts[j]:dom_starts[j+1]])\n",
    "            ins_score = out_doms/in_doms\n",
    "            for icutoff,cutoff in enumerate(cutoffs):\n",
    "                if ins_score<cutoff:\n",
    "                    fuses_all_v2_[icutoff].append([i,j])\n",
    "    for icutoff,cutoff in enumerate(cutoffs):\n",
    "        fuses_all_v2[icutoff].append(fuses_all_v2_[icutoff])\n",
    "\n",
    "\n",
    "#save_fl  = 'dom_fuses_chr21_newAnalysis___'+str(int(cutoff_cor*100))+'__cutoff'+str(cutoffs)+'.npy'\n",
    "#print(os.path.abspath(save_fl))\n",
    "#np.save(save_fl,fuses_all_v2)"
   ]
  }
 ],
 "metadata": {
  "kernelspec": {
   "display_name": "Python 3",
   "language": "python",
   "name": "python3"
  },
  "language_info": {
   "codemirror_mode": {
    "name": "ipython",
    "version": 3
   },
   "file_extension": ".py",
   "mimetype": "text/x-python",
   "name": "python",
   "nbconvert_exporter": "python",
   "pygments_lexer": "ipython3",
   "version": "3.7.4"
  }
 },
 "nbformat": 4,
 "nbformat_minor": 2
}
