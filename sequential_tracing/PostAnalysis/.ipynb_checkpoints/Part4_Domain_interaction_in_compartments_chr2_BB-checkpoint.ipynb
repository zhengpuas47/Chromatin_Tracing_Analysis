{
 "cells": [
  {
   "cell_type": "markdown",
   "metadata": {},
   "source": [
    "# This a jupyter notebook guide on domain interaction anaylsis for chr2, in the regime of A,B compartments\n",
    "\n",
    "by Pu Zheng \n",
    "\n",
    "2020.06.06\n"
   ]
  },
  {
   "cell_type": "markdown",
   "metadata": {},
   "source": [
    "## Import packages"
   ]
  },
  {
   "cell_type": "code",
   "execution_count": 1,
   "metadata": {},
   "outputs": [
    {
     "name": "stdout",
     "output_type": "stream",
     "text": [
      "2444\n"
     ]
    }
   ],
   "source": [
    "# imports\n",
    "import sys, os, glob, time, copy\n",
    "import numpy as np\n",
    "import scipy\n",
    "import pickle\n",
    "\n",
    "sys.path.append(os.path.abspath(r\"..\\.\"))\n",
    "\n",
    "import source as ia\n",
    "\n",
    "from scipy.signal import find_peaks\n",
    "from scipy.spatial.distance import cdist,pdist,squareform\n",
    "\n",
    "print(os.getpid()) # print this so u can terminate through cmd / task-manager"
   ]
  },
  {
   "cell_type": "markdown",
   "metadata": {},
   "source": [
    "## Import plotting"
   ]
  },
  {
   "cell_type": "code",
   "execution_count": 2,
   "metadata": {},
   "outputs": [],
   "source": [
    "# Required plotting setting\n",
    "import matplotlib\n",
    "matplotlib.rcParams['pdf.fonttype'] = 42\n",
    "import matplotlib.pyplot as plt\n",
    "plt.rc('font', family='serif')\n",
    "plt.rc('font', serif='Arial')\n",
    "_font_size = 7.5"
   ]
  },
  {
   "cell_type": "code",
   "execution_count": 3,
   "metadata": {},
   "outputs": [],
   "source": [
    "# Required plotting parameters\n",
    "from source.figure_tools import _dpi,_single_col_width,_double_col_width,_single_row_height,_ref_bar_length, _ticklabel_size,_ticklabel_width,_font_size"
   ]
  },
  {
   "cell_type": "code",
   "execution_count": 4,
   "metadata": {},
   "outputs": [
    {
     "name": "stdout",
     "output_type": "stream",
     "text": [
      "\\\\10.245.74.158\\Chromatin_NAS_4\\Chromatin_Share\\cleaned_repeat_figure\\Figure3\n"
     ]
    }
   ],
   "source": [
    "# figure folder\n",
    "parent_figure_folder = r'\\\\10.245.74.158\\Chromatin_NAS_4\\Chromatin_Share\\cleaned_repeat_figure'\n",
    "figure_folder = os.path.join(parent_figure_folder, 'Figure3')\n",
    "print(figure_folder)\n",
    "if not os.path.exists(figure_folder):\n",
    "    os.makedirs(figure_folder)\n",
    "    print(\"generating this folder\")"
   ]
  },
  {
   "cell_type": "markdown",
   "metadata": {},
   "source": [
    "# 0. Load data"
   ]
  },
  {
   "cell_type": "code",
   "execution_count": 5,
   "metadata": {},
   "outputs": [],
   "source": [
    "## chr2 dataset\n",
    "# load data containing candidates\n",
    "data_folder = r'\\\\10.245.74.158\\Chromatin_NAS_4\\Chromatin_Share\\Repicked_chromosome_data'\n",
    "\n",
    "data_rep1 = pickle.load(open(os.path.join(data_folder, r'chr2_after_selection.pkl'), 'rb'))"
   ]
  },
  {
   "cell_type": "markdown",
   "metadata": {},
   "source": [
    "## genomic coordinate info"
   ]
  },
  {
   "cell_type": "code",
   "execution_count": 7,
   "metadata": {},
   "outputs": [
    {
     "name": "stdout",
     "output_type": "stream",
     "text": [
      "- Importing csv file: \\\\10.245.74.69\\Chromatin_NAS_3\\20191007_CTP07_chr2\\Analysis\\Region_Positions.csv\n",
      "- header: ['region', 'chr', 'start', 'end', 'midpoint']\n",
      "-- 935 genomic regions loaded!\n"
     ]
    }
   ],
   "source": [
    "# reference folder\n",
    "ref_folder = r'\\\\10.245.74.69\\Chromatin_NAS_3\\20191007_CTP07_chr2\\Analysis'\n",
    "# load genomic positions\n",
    "genomic_dic = ia.get_img_info.Load_Region_Positions(ref_folder)\n",
    "mid_positions = np.array([_v['midpoint'] for _k,_v in genomic_dic.items()])\n",
    "\n",
    "genomic_distance_map = squareform(pdist(mid_positions[:,np.newaxis]))\n",
    "genomic_distance_entries = genomic_distance_map[np.triu_indices(len(genomic_distance_map),1)]\n",
    "\n",
    "genomic_positions_Mb = np.round(mid_positions/1e6, 2)\n",
    "# genomic dist map\n",
    "genomic_dist_mat = squareform(pdist(genomic_positions_Mb[:,np.newaxis]))\n",
    "\n",
    "region_starts = np.array([_v['start'] for _k,_v in genomic_dic.items()], dtype=np.int)\n",
    "region_ends = np.array([_v['end'] for _k,_v in genomic_dic.items()], dtype=np.int)"
   ]
  },
  {
   "cell_type": "code",
   "execution_count": 8,
   "metadata": {},
   "outputs": [
    {
     "name": "stderr",
     "output_type": "stream",
     "text": [
      "C:\\Users\\Bogdan\\Anaconda3\\lib\\site-packages\\ipykernel_launcher.py:8: RuntimeWarning: invalid value encountered in less\n",
      "  \n"
     ]
    }
   ],
   "source": [
    "zxys_rep1_list = np.array(data_rep1['dna_hzxys'])[:,:,1:4]\n",
    "distmap_rep1_list = np.array([squareform(pdist(_zxy)) for _zxy in zxys_rep1_list])\n",
    "\n",
    "# generate median distance map\n",
    "median_distance_map = np.nanmedian(distmap_rep1_list, axis = 0)\n",
    "# generate contact map\n",
    "contact_th = 500\n",
    "contact_map = np.nanmean(distmap_rep1_list < contact_th, axis=0)\n",
    "# load Hi-C\n",
    "hic_raw_map = np.load(r'\\\\10.245.74.158\\Chromatin_NAS_0\\Hi-C\\chr2_hg38_50000.npy')"
   ]
  },
  {
   "cell_type": "code",
   "execution_count": 15,
   "metadata": {},
   "outputs": [],
   "source": [
    "keys = np.sort(list(genomic_dic.keys()))\n",
    "coords = [genomic_dic[i]['chr']+':'+str(genomic_dic[i]['start'])+'-'+str(genomic_dic[i]['end']) for i in keys]"
   ]
  },
  {
   "cell_type": "code",
   "execution_count": 17,
   "metadata": {},
   "outputs": [],
   "source": [
    "save_folder = r'C:\\Users\\Bogdan\\Dropbox\\2020 Chromatin Imaging Manuscript\\Revision\\DataForReviewers\\population-averaged'\n",
    "fid = open(save_folder+r'\\median_distance_chromosome2.tsv','w')\n",
    "head = '\\t'+'\\t'.join(coords)+'\\n'\n",
    "fid.write(head)\n",
    "icoord = 0\n",
    "for row in (median_distance_map).astype(int).astype(str):\n",
    "    row_ = coords[icoord]+'\\t'+'\\t'.join(row)+'\\n'\n",
    "    fid.write(row_)\n",
    "    icoord+=1\n",
    "fid.close()\n",
    "\n",
    "\n",
    "fid = open(save_folder+r'\\proximity-probability_chromosome2.tsv','w')\n",
    "head = '\\t'+'\\t'.join(coords)+'\\n'\n",
    "fid.write(head)\n",
    "im_save = np.round(contact_map,15)\n",
    "icoord = 0\n",
    "for row in im_save.astype(str):\n",
    "    row_ = coords[icoord]+'\\t'+'\\t'.join(row)+'\\n'\n",
    "    fid.write(row_)\n",
    "    icoord+=1\n",
    "fid.close()\n",
    "\n"
   ]
  },
  {
   "cell_type": "code",
   "execution_count": 18,
   "metadata": {},
   "outputs": [
    {
     "ename": "IndexError",
     "evalue": "list index out of range",
     "output_type": "error",
     "traceback": [
      "\u001b[1;31m---------------------------------------------------------------------------\u001b[0m",
      "\u001b[1;31mIndexError\u001b[0m                                Traceback (most recent call last)",
      "\u001b[1;32m<ipython-input-18-995b60b3b9ed>\u001b[0m in \u001b[0;36m<module>\u001b[1;34m\u001b[0m\n\u001b[0;32m      5\u001b[0m \u001b[0micoord\u001b[0m \u001b[1;33m=\u001b[0m \u001b[1;36m0\u001b[0m\u001b[1;33m\u001b[0m\u001b[1;33m\u001b[0m\u001b[0m\n\u001b[0;32m      6\u001b[0m \u001b[1;32mfor\u001b[0m \u001b[0mrow\u001b[0m \u001b[1;32min\u001b[0m \u001b[0mim_save\u001b[0m\u001b[1;33m.\u001b[0m\u001b[0mastype\u001b[0m\u001b[1;33m(\u001b[0m\u001b[0mstr\u001b[0m\u001b[1;33m)\u001b[0m\u001b[1;33m:\u001b[0m\u001b[1;33m\u001b[0m\u001b[1;33m\u001b[0m\u001b[0m\n\u001b[1;32m----> 7\u001b[1;33m     \u001b[0mrow_\u001b[0m \u001b[1;33m=\u001b[0m \u001b[0mcoords\u001b[0m\u001b[1;33m[\u001b[0m\u001b[0micoord\u001b[0m\u001b[1;33m]\u001b[0m\u001b[1;33m+\u001b[0m\u001b[1;34m'\\t'\u001b[0m\u001b[1;33m+\u001b[0m\u001b[1;34m'\\t'\u001b[0m\u001b[1;33m.\u001b[0m\u001b[0mjoin\u001b[0m\u001b[1;33m(\u001b[0m\u001b[0mrow\u001b[0m\u001b[1;33m)\u001b[0m\u001b[1;33m+\u001b[0m\u001b[1;34m'\\n'\u001b[0m\u001b[1;33m\u001b[0m\u001b[1;33m\u001b[0m\u001b[0m\n\u001b[0m\u001b[0;32m      8\u001b[0m     \u001b[0mfid\u001b[0m\u001b[1;33m.\u001b[0m\u001b[0mwrite\u001b[0m\u001b[1;33m(\u001b[0m\u001b[0mrow_\u001b[0m\u001b[1;33m)\u001b[0m\u001b[1;33m\u001b[0m\u001b[1;33m\u001b[0m\u001b[0m\n\u001b[0;32m      9\u001b[0m     \u001b[0micoord\u001b[0m\u001b[1;33m+=\u001b[0m\u001b[1;36m1\u001b[0m\u001b[1;33m\u001b[0m\u001b[1;33m\u001b[0m\u001b[0m\n",
      "\u001b[1;31mIndexError\u001b[0m: list index out of range"
     ]
    }
   ],
   "source": [
    "fid = open(save_folder+r'\\hi-c_contacts_chromosome2.tsv','w')\n",
    "head = '\\t'+'\\t'.join(coords)+'\\n'\n",
    "fid.write(head)\n",
    "im_save =hic_raw_map[keys,keys].astype(int)\n",
    "icoord = 0\n",
    "for row in im_save.astype(str):\n",
    "    row_ = coords[icoord]+'\\t'+'\\t'.join(row)+'\\n'\n",
    "    fid.write(row_)\n",
    "    icoord+=1"
   ]
  },
  {
   "cell_type": "code",
   "execution_count": 21,
   "metadata": {},
   "outputs": [
    {
     "data": {
      "text/plain": [
       "array([ 3511.,  5919.,  4139.,  4196.,  3553.,  4198.,  2997.,  9243.,\n",
       "        2987.,  3825.,  4110.,  4242.,  3652.,  4818.,  4869.,  6142.,\n",
       "        3549.,  3556.,  3453.,  2760.,  2035.,  4025.,  4364.,  5778.,\n",
       "        5303.,  4683.,  5490.,  4512.,  5702.,  4758.,  3662.,  5744.,\n",
       "        5919.,  6444.,  7498.,  6106.,  5735., 10815.,  8219.,  9243.,\n",
       "       10263.,  6297.,  7916.,  8023.,  6220.,  6422.,  7327.,  9006.,\n",
       "        6480.,  6583.,  6219.,  8074.,  5779.,  3740.,  3235.,  2771.,\n",
       "        3119.,  4164.,  4798.,  4988.,  3813.,  5538.,  5979.,  5644.,\n",
       "        4866.,  3873.,  5532.,  6300.,  4134.,  4867.,  3406.,  4927.,\n",
       "        5563.,  5725.,  7198.,  5217.,  4489.,  7492.,  5024.,  7954.,\n",
       "        7330.,  8870., 11596.,  5126.,  6289.,  5425.,  4249.,  5475.,\n",
       "        4864.,  4182.,  4088.,  3835.,  3925.,  5165.,  9876.,  5110.,\n",
       "        8086.,  6833.,  5330.,  5640.,  8422.,  8409.,  8475.,  5904.,\n",
       "       10085.,  7673.,  8001.,  9192.,  7465.,  8310.,  9835.,  7615.,\n",
       "        7056.,  9359.,  8435.,  7043.,  9844.,  7171.,  8250.,  6616.,\n",
       "        5288., 11263.,  5851.,  6676.,  6515.,  7245.,  5010.,  4927.,\n",
       "        6817.,  6594.,  6815.,  6810., 10128.,  7462.,  8807.,  5163.,\n",
       "        5304.,  3627.,  3511.,  3311.,  2956.,  3192.,  4043.,  1975.,\n",
       "        3652.,  5094.,  9463.,  6838.,  6721.,  6604.,  6680., 10703.,\n",
       "        7515.,  8679.,  8872.,  6535.,  6500.,  8198.,  6669.,  6375.,\n",
       "        6535.,  5172.,  4468.,  3556.,  3704.,  4562.,  5289.,  8004.,\n",
       "        5948.,  6910.,  7229.,  7429.,  9497.,  7303.,  7046.,  7170.,\n",
       "        4875.,  4693.,  6354.,  6878.,  7599.,  6350.,  9364., 10269.,\n",
       "        8802.,  9319.,  7284.,  9883., 10640.,  6759.,  7635.,  5428.,\n",
       "        6397.,  7500.,  5038.,  5502.,  3917.,  3201.,  3131.,  3587.,\n",
       "        3625.,  3940.,  4122.,  3383.,  5366.,  4609.,  3794.,  5357.,\n",
       "        5277.,  4477.,  5986.,  5644.,  4963.,  6591.,  6513.,  8667.,\n",
       "        6863.,  6890.,  7750.,  6224.,  8056.,  7047.,  6954.,  6487.,\n",
       "        5649.,  4605.,  3096.,  2884.,  3668.,  4311.,  5840.,  5166.,\n",
       "        5123.,  5136.,  4784.,  4062.,  4151.,  3538.,  4392.,  3817.,\n",
       "        4758.,  6232.,  6979.,  6664.,  7919.,  7548.,  6312.,  5942.,\n",
       "        7453.,  5843.,  5365.,  4427.,  5178.,  5567.,  6235.,  6876.,\n",
       "        7612.,  8194.,  8614.,  6589.,  6972.,  4894.,  5059.,  4826.,\n",
       "        8912.,  6814.,  6045.,  9451.,  8176.,  6897.,  7220.,  6784.,\n",
       "        5075.,  8316.,  7029.,  9884.,  9621.,  9109.,  9106.,  7465.,\n",
       "        5509.,  5835.,  6147.,  5615.,  7317.,  6031.,  5417.,  5876.,\n",
       "        5044.,  5838.,  9763.,  9358.,  5020.,  7289., 10449., 10550.,\n",
       "       12068.,  9262.,  8098.,  7249.,  7577.,  5377.,  3650.,  3728.,\n",
       "        3058.,  3963.,  3901.,  3446.,  3970.,  3428.,  3133.,  3436.,\n",
       "        3221.,  3666.,  5333.,  4333.,  3409.,  4378.,  7005.,  6406.,\n",
       "        4903.,  4258.,  3140.,  3011.,  4053.,  4284.,  3762.,  3895.,\n",
       "        2864.,  3896.,  3537.,  3497.,  3352.,  3890.,  3686.,  4817.,\n",
       "        5870.,  7279.,  8732., 11460.,  9163., 11446., 10568.,  8160.,\n",
       "        7259.,  2699.,  1055.,  2342.,   829.,  5200.,  5671.,  6582.,\n",
       "        4585.,    nan,  1905.,  1942.,  3896.,  5827.,  6455.,  3919.,\n",
       "        4057.,  3447., 10738.,  8502.,  9026.,  5213.,  8023.,  5809.,\n",
       "        3823.,  7292.,  6287.,  5075.,  4924.,  6513.,  7918.,  7118.,\n",
       "        7272.,  6981.,  8749.,  7032.,  6800.,  7764.,  6682.,  7990.,\n",
       "        6691.,  6443.,  5343.,  4295.,  3379.,  3186.,  3030.,  3672.,\n",
       "        3075.,  3965.,  4940.,  4669.,  8608.,  7007.,  6294.,  5180.,\n",
       "        4261.,  3615.,  3701.,  4699.,  4490.,  3337.,  4571.,  4051.,\n",
       "        5871.,  4102.,  4232.,  7953.,  9667.,  7366.,  7061.,  6658.,\n",
       "        2202.,  3937.,  1604.,  7570.,  6275.,  5832.,  7858.,  6602.,\n",
       "        9154.,  1141.,  7905.,  5331.,  4972.,  4179.,  3856.,  3287.,\n",
       "        3302.,  3237.,  3106.,  3481.,  3422.,  3245.,  3401.,  3243.,\n",
       "        3451.,  3738.,  3724.,  6906.,  5614.,  5254.,  5634.,  4641.,\n",
       "        7658.,  5996.,  7491.,  5706.,  9001.,  8493.,  9720.,  8264.,\n",
       "        5418.,  7124.,  7242.,  5448.,  3874.,  3670.,  3501.,  3300.,\n",
       "        3119.,  3444.,  3430.,  4178.,  3582.,  5771.,  4544.,  5150.,\n",
       "        3435.,  4179.,  3649.,  3823.,  4565.,  5098.,  5976.,  7885.,\n",
       "        9241.,  7347.,  7037.,  7679.,  7131.,  7769.,  4922.,  4281.,\n",
       "        3654.,  4510.,  4262.,  2847.,  4135.,  5193.,  6004.,  5382.,\n",
       "        2806.,  2065.,  5815.,  6831.,  6665.,  6318.,  8055.,  7781.,\n",
       "        7315.,  8126.,  6314.,  5672.,  6629.,  5628.,  5435.,  8184.,\n",
       "        5747.,  6058.,  4354.,  3720.,  2986.,  3398.,  3995.,  4100.,\n",
       "        5513.,  4644.,  4659.,  4719.,  4075.,  3819.,  2836.,  3675.,\n",
       "        3493.,  4006.,  4250.,  4446.,  5580.,  3616.,  4723.,  3299.,\n",
       "        3734.,  5185.,  3437.,  5171.,  4742.,  4930.,  6145.,  7051.,\n",
       "        5343.,  6596.,  6708.,  6134.,  6893.,  5749.,  3673.,  5516.,\n",
       "        3756.,  4771.,  5443.,  4409.,  5687.,  4353.,  5862.,  4429.,\n",
       "        5552.,  5640.,  6145.,  6065.,  6214.,  4585.,  4753.,  5906.,\n",
       "        5511.,  7342.,  8418.,  5707.,  7537.,  7514.,  5690.,  5484.,\n",
       "        5570.,  7247.,  7794.,  5607.,  1866.,  3781.,  4004.,  3317.,\n",
       "        2808.,  3169.,  3524.,  3213.,  3036.,  3688.,  2454.,  3302.,\n",
       "        4037.,  3551.,  4977.,  4697.,  4725.,  6856.,  3567.,  6749.,\n",
       "        6305.,  4861.,  5962.,  6033.,  9281.,  6421.,  5984.,  6789.,\n",
       "        5206.,  8650.,  7015.,  6065.,  8323.,  6636.,  3510.,  4679.,\n",
       "        7448.,  6140.,  3950.,  3576.,  3375.,  3461.,  5484.,  5382.,\n",
       "        4248.,  3103.,  3664.,  5336.,  4915.,  4656.,  4008.,  4973.,\n",
       "        3978.,  6832.,  5864.,  4499.,  4137.,  4569.,  4327.,  5041.,\n",
       "        5366.,  6199.,  6326.,  6035.,  3748.,  2503.,  7153.,  6733.,\n",
       "        6375.,  5323.,  6213.,  5166.,  6268.,  7765.,  7831.,  7070.,\n",
       "        7141.,  8339.,  7677.,  8570.,  7593.,  7474.,  5785., 10148.,\n",
       "        6970.,  7488., 10953.,  5831.,  5010.,  3900.,  4241.,  4960.,\n",
       "        4323.,  5349.,  4961.,  5480.,  8632.,  5116.,  6066.,  5894.,\n",
       "        7145.,  5979.,  5415.,  3770.,  5737.,  4903.,  5899.,  5930.,\n",
       "        6520.,  4933.,  4663.,  4561.,  5190.,  7367.,  5638.,  4817.,\n",
       "        5321.,  5048.,  4732.,  4770.,  3064.,  4012.,  3202.,  3053.,\n",
       "        3011.,  3957.,  3144.,  3531.,  3407.,  3559.,  4601.,  4919.,\n",
       "        6133.,  5489.,  5244.,  3428.,  6670.,  4694.,  6203.,  5438.,\n",
       "        5109.,  4685.,  7205.,  6053.,  7929.,  5537.,  6140.,  6165.,\n",
       "        7671.,  7994.,  8806.,  8359.,  6076.,  4950.,  6151.,  4222.,\n",
       "        3590.,  3143.,  2899.,  2918.,  3811.,  3333.,  3569.,  2925.,\n",
       "        2921.,  2811.,  3724.,  4360.,  6520.,  5092.,  4821.,  9497.,\n",
       "        4287.,  5858.,  6778.,  6121.,  7640.,  4663.,  4695.,  5911.,\n",
       "        3518.,  3494.,  3645.,  4840.,  5190.,  5768.,  8181.,  7089.,\n",
       "        8410., 11489.,  6907.,  7365.,  7449.,  6571., 10528.,  7772.,\n",
       "        7044.,  6344.,  6525.,  8066.,  6620.,  7772.,  6753.,  6351.,\n",
       "        6804.,  5274.,  5909.,  5969.,  7952.,  8102.,  7246.,  6010.,\n",
       "        4980.,  6073.,  5496., 10804.,  7816.,  6330.,  6771.,  6849.,\n",
       "        3289.,  3304.,  3570.,  3457.,  4305.,  4121.,  5238.,  4253.,\n",
       "        4389.,  3750.,  3218.,  4069.,  3545.,  3344.,  3210.,  3804.,\n",
       "        3401.,  4541.,  4625.,  5517.,  3385.,  3865.,  5432.,  4091.,\n",
       "        5147.,  4554.,  5008.,  4429.,  8144.,  9931.,  7499.,  9124.,\n",
       "        9353.,  9287.,  8388.,  9758.,  6841.,  6594., 11073., 11127.,\n",
       "        7971.,  9373.,  7762., 10711., 12840.,  6356.,  7230.,  7401.,\n",
       "        6014.,  5563.,  5347.,  5205.,  7641.,  6060.,  3991.,  4325.,\n",
       "        5197.,  7813.,  7018.,  5524.,  6027.,  7527.,  7120.,  6720.,\n",
       "        6516.,  6707.,  7351.,  4940.,  5291.,  6359.,  6819.,  6116.,\n",
       "        6996.,  9875.,  6866.,  5409.,  6340.,  6488.,  4111.,  3459.,\n",
       "        3518.,  3584.,  4437.,  3948.,  5134.,  6411.,  6581.,  7573.,\n",
       "        6998.,  9989.,  8098.,  8675.,  7018.,  7960.,  6333.,  6975.,\n",
       "        5693.,  6421.,  6794.,  7992.,  5620.,  5520.,  7527.,  8902.,\n",
       "        6575.,  9305., 11683.,  7930.,  7475.,  7041.,  7284.,  6131.,\n",
       "        5948.,  7236.,  5097., 13632.,  9868.,  9040.,  7599.,  9039.,\n",
       "        9472.,  6016.,  7819., 10604.,  6114.,  4242.,  8396.,  7867.,\n",
       "        7506.,  6132.,  4834., 10463., 10304.,  8212.,  7026.])"
      ]
     },
     "execution_count": 21,
     "metadata": {},
     "output_type": "execute_result"
    }
   ],
   "source": []
  },
  {
   "cell_type": "code",
   "execution_count": null,
   "metadata": {},
   "outputs": [],
   "source": []
  },
  {
   "cell_type": "code",
   "execution_count": 12,
   "metadata": {},
   "outputs": [],
   "source": [
    "#plt.imshow(np.log(hic_raw_map))"
   ]
  },
  {
   "cell_type": "markdown",
   "metadata": {},
   "source": [
    "## 0.1 prepare data domains and compartments\n",
    "\n",
    "Note: Please check what parameter you have used to call domains for chr2 and run it here"
   ]
  },
  {
   "cell_type": "markdown",
   "metadata": {},
   "source": [
    "### 0.1.1 domains"
   ]
  },
  {
   "cell_type": "code",
   "execution_count": 7,
   "metadata": {},
   "outputs": [
    {
     "name": "stdout",
     "output_type": "stream",
     "text": [
      "Multiprocessing call domain starts in 76.038s.\n"
     ]
    }
   ],
   "source": [
    "sys.path.append(r\"\\\\10.245.74.158\\Chromatin_NAS_4\\Chromatin_Share\\BB_forPu\")\n",
    "import DomainAnalysis as da\n",
    "import multiprocessing as mp\n",
    "\n",
    "num_threads=32\n",
    "domain_corr_cutoff = 0.85 \n",
    "domain_dist_cutoff = 1000 # nm\n",
    "\n",
    "_domain_args = [(_hzxys[:,1:], 4, 1000, domain_corr_cutoff, domain_dist_cutoff) \n",
    "                     for _hzxys in data_rep1['dna_hzxys']]\n",
    "_domain_time = time.time()\n",
    "\n",
    "print(f\"Multiprocessing call domain starts\", end=' ')\n",
    "if 'domain_starts' not in data_rep1:\n",
    "    with mp.Pool(num_threads) as domain_pool:\n",
    "        domain_results = domain_pool.starmap(da.get_dom_starts_cor, _domain_args)\n",
    "        domain_pool.close()\n",
    "        domain_pool.join()\n",
    "        domain_pool.terminate()\n",
    "    # save\n",
    "    data_rep1['domain_starts'] = [np.array(_r[-1]) for _r in domain_results]\n",
    "    data_rep1['params']['domain_corr_cutoff'] = domain_corr_cutoff\n",
    "    data_rep1['params']['domain_dist_cutoff'] = domain_dist_cutoff\n",
    "    \n",
    "print(f\"in {time.time()-_domain_time:.3f}s.\")"
   ]
  },
  {
   "cell_type": "markdown",
   "metadata": {},
   "source": [
    "### 0.1.2: domain interaction calling"
   ]
  },
  {
   "cell_type": "code",
   "execution_count": null,
   "metadata": {},
   "outputs": [],
   "source": [
    "# cutoff for:\n",
    "#  domain pairs touching each other -> insulation score <= 2\n",
    "#  domain pairs fully intermix with each other -> insulation score <= 1\n",
    "domain_interact_cutoff = 2\n",
    "domain_intermix_cutoff = 1\n",
    "#"
   ]
  },
  {
   "cell_type": "markdown",
   "metadata": {},
   "source": [
    "# Please fill in code here"
   ]
  },
  {
   "cell_type": "code",
   "execution_count": null,
   "metadata": {},
   "outputs": [],
   "source": [
    "cutoffs = [1,1.25,1.5,1.75,2]\n",
    "\n",
    "from tqdm import tqdm_notebook as tqdm\n",
    "fuses_all_v2 = [[] for cutoff in cutoffs]\n",
    "for ichr in tqdm(range(len(zxys))):\n",
    "    zxy = zxys[ichr]\n",
    "    dom_starts_f = dom_starts_fs[ichr]\n",
    "\n",
    "    bad = np.isnan(zxy[:,0])\n",
    "    zxy_ = zxy[~bad]\n",
    "    mat=squareform(pdist(zxy_))\n",
    "    dom_starts = np.zeros(len(zxy))\n",
    "    dom_starts[dom_starts_f[:-1]]=1\n",
    "    dom_starts = list(np.where(dom_starts[~bad])[0])+[len(zxy_)]\n",
    "    fuses_all_v2_=[[] for cutoff in cutoffs]\n",
    "    for i in range(len(dom_starts)-1):\n",
    "        for j in range(i):\n",
    "            in_i = squareform(mat[dom_starts[i]:dom_starts[i+1],dom_starts[i]:dom_starts[i+1]])\n",
    "            in_j = squareform(mat[dom_starts[j]:dom_starts[j+1],dom_starts[j]:dom_starts[j+1]])\n",
    "            in_doms = np.median(np.concatenate([in_i,in_j]))\n",
    "            out_doms = np.median(mat[dom_starts[i]:dom_starts[i+1],dom_starts[j]:dom_starts[j+1]])\n",
    "            ins_score = out_doms/in_doms\n",
    "            for icutoff,cutoff in enumerate(cutoffs):\n",
    "                if ins_score<cutoff:\n",
    "                    fuses_all_v2_[icutoff].append([i,j])\n",
    "    for icutoff,cutoff in enumerate(cutoffs):\n",
    "        fuses_all_v2[icutoff].append(fuses_all_v2_[icutoff])\n",
    "\n",
    "\n",
    "#save_fl  = 'dom_fuses_chr21_newAnalysis___'+str(int(cutoff_cor*100))+'__cutoff'+str(cutoffs)+'.npy'\n",
    "#print(os.path.abspath(save_fl))\n",
    "#np.save(save_fl,fuses_all_v2)"
   ]
  }
 ],
 "metadata": {
  "kernelspec": {
   "display_name": "Python 3",
   "language": "python",
   "name": "python3"
  },
  "language_info": {
   "codemirror_mode": {
    "name": "ipython",
    "version": 3
   },
   "file_extension": ".py",
   "mimetype": "text/x-python",
   "name": "python",
   "nbconvert_exporter": "python",
   "pygments_lexer": "ipython3",
   "version": "3.7.4"
  }
 },
 "nbformat": 4,
 "nbformat_minor": 2
}
